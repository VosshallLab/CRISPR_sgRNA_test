{
 "metadata": {
  "name": "",
  "signature": "sha256:8e7eac2e7ffbd5c01c9a80dab911b8b125ac50166ddb20e5635ebe2226a9fbe1"
 },
 "nbformat": 3,
 "nbformat_minor": 0,
 "worksheets": [
  {
   "cells": [
    {
     "cell_type": "markdown",
     "metadata": {},
     "source": [
      "##script to align deep sequencing reads and detect indels caused by ZFN/TALEN/CRISPR<br>\n",
      "\n",
      "Companion to the bioRxiv manuscript \n",
      "[Genome engineering with CRISPR-Cas9 in the mosquito Aedes aegypti](http://bioRxiv.org)<br>\n",
      "Katie E. Kistler, Leslie B. Vosshall, and [Benjamin J. Matthews](bmatthews@rockefeller.edu)<br>\n",
      "[github link](http://github.com/bnmtthws/crispr_indel/)<br>\n",
      "\n",
      "###Figure 2D: alignment\n",
      "\n",
      "---\n",
      "tested on MacOS X 10.10 (Yosemite) and Linux (RHEL 6)\n",
      "\n",
      "software requirements and *tested versions*:<br>\n",
      "1. gmap/gsnap [http://research-pub.gene.com/gmap/] *version 10-22-2014*<br>\n",
      "2. pysam [https://github.com/pysam-developers/pysam] *version 0.8.0*<br>\n",
      "3. samtools/htslib [http://www.htslib.org] *version 1.1*<br>\n",
      "  \n",
      "python package requirements:<br>\n",
      "1. pysamstats [https://github.com/alimanfoo/pysamstats] *version 0.19*<br>\n",
      "  \n",
      "---\n",
      "input:\n",
      "1. fastq/ - a directory of .fastq files with numbered samples denoted by *SX*.fastq (the default output from an Illumina MiSeq instrument)\n",
      "2. genome.fa - a fasta file to serve as a 'genome' for the gapped alignments\n",
      "\n",
      "output:\n",
      "1. sorted .bam files for each sample\n",
      "2. *.variant.stats file summarizing indel/SNP rates for each sample"
     ]
    },
    {
     "cell_type": "code",
     "collapsed": false,
     "input": [
      "# import our libraries\n",
      "import sys,re,csv,glob,os,pysam"
     ],
     "language": "python",
     "metadata": {},
     "outputs": [],
     "prompt_number": 11
    },
    {
     "cell_type": "heading",
     "level": 3,
     "metadata": {},
     "source": [
      "generate gmap database"
     ]
    },
    {
     "cell_type": "code",
     "collapsed": false,
     "input": [
      "!mkdir miseq_gmap\n",
      "!gmap_build -D miseq_gmap -d miseq genome.fa"
     ],
     "language": "python",
     "metadata": {},
     "outputs": [
      {
       "output_type": "stream",
       "stream": "stdout",
       "text": [
        "mkdir: miseq_gmap: File exists\r\n"
       ]
      },
      {
       "output_type": "stream",
       "stream": "stdout",
       "text": [
        "-k flag not specified, so building with default 15-mers\r\n",
        "Sorting chromosomes in chrom order.  To turn off or sort other ways, use the -s flag.\r\n",
        "Checking compiler assumptions for popcnt: 000041A7 __builtin_clz=17 __builtin_ctz=0 _mm_popcnt_u32=7 __builtin_popcount=7 \r\n",
        "Checking compiler assumptions for SSE2: 000041A7 10D63AF1 xor=10D67B56\r\n",
        "Checking compiler assumptions for SSE4.1: -89 -15 max=241 => compiler zero extends\r\n",
        "Creating files in directory miseq_gmap/miseq\r\n"
       ]
      },
      {
       "output_type": "stream",
       "stream": "stdout",
       "text": [
        "Running /usr/local/bin/fa_coords    -o miseq_gmap/miseq.coords -f miseq_gmap/miseq.sources\r\n",
        "Opening file genome.fa\r\n",
        "  Processed short contigs (<1000000 nt): ......\r\n",
        "============================================================\r\n",
        "Contig mapping information has been written to file miseq_gmap/miseq.coords.\r\n",
        "You should look at this file, and edit it if necessary\r\n",
        "If everything is okay, you should proceed by running\r\n",
        "    make gmapdb\r\n",
        "============================================================\r\n"
       ]
      },
      {
       "output_type": "stream",
       "stream": "stdout",
       "text": [
        "Running /usr/local/bin/gmap_process  -c miseq_gmap/miseq.coords -f miseq_gmap/miseq.sources | /usr/local/bin/gmapindex  -d miseq -D miseq_gmap/miseq -A \r\n",
        "Reading coordinates from file miseq_gmap/miseq.coords\r\n",
        "Logging contig cloneX at cloneX:1..1870 in genome miseq\r\n",
        "Logging contig ir7v1 at ir7v1:1..5529 in genome miseq\r\n",
        "Logging contig nanchung at nanchung:1..33680 in genome miseq\r\n",
        "Logging contig ppk11-1 at ppk11-1:1..17842 in genome miseq\r\n",
        "Logging contig ppk11-2 at ppk11-2:1..36180 in genome miseq\r\n",
        "Logging contig ppk28 at ppk28:1..11934 in genome miseq\r\n",
        "Total genomic length = 107035 bp\r\n",
        "Chromosome cloneX has universal coordinates 1..1870\r\n",
        "Chromosome ir7v1 has universal coordinates 1871..7399\r\n",
        "Chromosome nanchung has universal coordinates 7400..41079\r\n",
        "Chromosome ppk11-1 has universal coordinates 41080..58921\r\n",
        "Chromosome ppk11-2 has universal coordinates 58922..95101\r\n",
        "Chromosome ppk28 has universal coordinates 95102..107035\r\n",
        "Writing IIT file header information...coordinates require 4 bytes each...done\r\n",
        "Processing null division/chromosome...sorting...writing...done (6 intervals)\r\n",
        "Writing IIT file footer information...done\r\n",
        "Writing IIT file header information...coordinates require 4 bytes each...done\r\n",
        "Processing null division/chromosome...sorting...writing...done (6 intervals)\r\n",
        "Writing IIT file footer information...done\r\n"
       ]
      },
      {
       "output_type": "stream",
       "stream": "stdout",
       "text": [
        "Running /usr/local/bin/gmap_process  -c miseq_gmap/miseq.coords -f miseq_gmap/miseq.sources | /usr/local/bin/gmapindex  -d miseq -F miseq_gmap/miseq -D miseq_gmap/miseq -G\r\n",
        "Genome length is 107035 nt\r\n",
        "Trying to allocate 10035*4 bytes of memory...succeeded.  Building genome in memory.\r\n",
        "Reading coordinates from file miseq_gmap/miseq.coords\r\n",
        "Writing contig cloneX to universal coordinates 1..1870 in genome miseq\r\n",
        "Writing contig ir7v1 to universal coordinates 1871..7399 in genome miseq\r\n",
        "Writing contig nanchung to universal coordinates 7400..41079 in genome miseq\r\n",
        "Writing contig ppk11-1 to universal coordinates 41080..58921 in genome miseq\r\n",
        "Writing contig ppk11-2 to universal coordinates 58922..95101 in genome miseq\r\n",
        "Writing contig ppk28 to universal coordinates 95102..107035 in genome miseq\r\n",
        "A total of 0 non-ACGTNX characters were seen in the genome.\r\n"
       ]
      },
      {
       "output_type": "stream",
       "stream": "stdout",
       "text": [
        "Running cat miseq_gmap/miseq/miseq.genomecomp | /usr/local/bin/gmapindex -d miseq -U > miseq_gmap/miseq/miseq.genomebits128\r\n"
       ]
      },
      {
       "output_type": "stream",
       "stream": "stdout",
       "text": [
        "Running cat miseq_gmap/miseq/miseq.genomecomp | /usr/local/bin/gmapindex -k 15 -q 3  -d miseq -F miseq_gmap/miseq -D miseq_gmap/miseq -N\r\n",
        "Counting positions in genome miseq (15 bp every 3 bp), position 0\r\n",
        "Number of offsets: 35572 => pages file not required\r\n"
       ]
      },
      {
       "output_type": "stream",
       "stream": "stdout",
       "text": [
        "Running cat miseq_gmap/miseq/miseq.genomecomp | /usr/local/bin/gmapindex -k 15 -q 3  -d miseq -F miseq_gmap/miseq -D miseq_gmap/miseq -O \r\n",
        "Offset compression types: bitpack64\r\n",
        "Allocating 1073741825*4 bytes for offsets\r\n",
        "Indexing offsets of oligomers in genome miseq (15 bp every 3 bp), position 0\r\n"
       ]
      },
      {
       "output_type": "stream",
       "stream": "stdout",
       "text": [
        "Writing 1073741825 offsets compressed via bitpack64 to file with total of 35572 k-mers..."
       ]
      },
      {
       "output_type": "stream",
       "stream": "stdout",
       "text": [
        "Checking bitpack..."
       ]
      },
      {
       "output_type": "stream",
       "stream": "stdout",
       "text": [
        "done\r\n"
       ]
      },
      {
       "output_type": "stream",
       "stream": "stdout",
       "text": [
        "Running cat miseq_gmap/miseq/miseq.genomecomp | /usr/local/bin/gmapindex -k 15 -q 3  -d miseq -F miseq_gmap/miseq -D miseq_gmap/miseq -P\r\n"
       ]
      },
      {
       "output_type": "stream",
       "stream": "stdout",
       "text": [
        "Looking for index files in directory miseq_gmap/miseq\r\n",
        "  Pointers file is miseq.ref153offsets64meta\r\n",
        "  Offsets file is miseq.ref153offsets64strm\r\n",
        "  Positions file is miseq.ref153positions\r\n",
        "Allocating memory (1073741825 4-byte words) for offsets, kmer 15...done\r\n",
        "Expanding offsetsstrm into offsets..."
       ]
      },
      {
       "output_type": "stream",
       "stream": "stdout",
       "text": [
        "done\r\n",
        "Trying to allocate 35572*4 bytes of memory for positions...succeeded.  Building positions in memory.\r\n",
        "Indexing positions of oligomers in genome miseq (15 bp every 3 bp), position 0\r\n"
       ]
      },
      {
       "output_type": "stream",
       "stream": "stdout",
       "text": [
        "Writing 35572 genomic positions to file miseq_gmap/miseq/miseq.ref153positions ...\r\n"
       ]
      },
      {
       "output_type": "stream",
       "stream": "stdout",
       "text": [
        "Running /usr/local/bin/gmapindex -d miseq -F miseq_gmap/miseq -D miseq_gmap/miseq -S\r\n",
        "Building suffix array\r\n",
        "SACA_K called with n = 107036, K = 5, level 0\r\n",
        "SACA_K called with n = 29258, K = 0, level 1\r\n",
        "SACA_K called with n = 9395, K = 0, level 2\r\n",
        "SACA_K called with n = 3053, K = 0, level 3\r\n"
       ]
      },
      {
       "output_type": "stream",
       "stream": "stdout",
       "text": [
        "For indexsize 12, occupied 102339/16777216\r\n",
        "Optimal indexsize = 12\r\n"
       ]
      },
      {
       "output_type": "stream",
       "stream": "stdout",
       "text": [
        "Running /usr/local/bin/gmapindex -d miseq -F miseq_gmap/miseq -D miseq_gmap/miseq -L\r\n",
        "Building LCP array\r\n"
       ]
      },
      {
       "output_type": "stream",
       "stream": "stdout",
       "text": [
        "Writing temporary file for rank...done\r\n",
        "Writing temporary file for permuted sarray...done\r\n"
       ]
      },
      {
       "output_type": "stream",
       "stream": "stdout",
       "text": [
        "Byte-coding: 107036 values < 255, 0 exceptions >= 255 (0.0%)\r\n",
        "Building DC array\r\n",
        "Building child array\r\n"
       ]
      },
      {
       "output_type": "stream",
       "stream": "stdout",
       "text": [
        "Byte-coding: 106744 values < 255, 292 exceptions >= 255 (0.3%)\r\n",
        "Writing bytes file...done\r\n"
       ]
      }
     ],
     "prompt_number": 12
    },
    {
     "cell_type": "markdown",
     "metadata": {},
     "source": [
      "####make directory to store the variant.stats files"
     ]
    },
    {
     "cell_type": "code",
     "collapsed": false,
     "input": [
      "!mkdir variants"
     ],
     "language": "python",
     "metadata": {},
     "outputs": []
    },
    {
     "cell_type": "code",
     "collapsed": false,
     "input": [
      "lanes=[]\n",
      "for i in range(96):\n",
      "    lanes.append(\"S\"+str(i+1))\n",
      "\n",
      "# the first argument to the script is a directory that contains all of the .fq files\n",
      "readfiles_dir = 'fastq';\n",
      "\n",
      "# cycle through each of the samples\n",
      "for lane in lanes:\n",
      "    \n",
      "    # this will be the file name of the bam file created\n",
      "    bamFile= '.'.join([lane,'sorted.bam']);\n",
      "    \n",
      "    # this finds all of the .fastq files associated with the sample number\n",
      "    reads = glob.glob(readfiles_dir + '/*' + lane + '_*.fastq')\n",
      "    \n",
      "    print(['running lane' + lane])\n",
      "    \n",
      "    # gsnap alignment\n",
      "    # change the -d argument to match a gmap database that you've built with gmap_build\n",
      "    \n",
      "    os.system('gsnap -t 8 -B 4 -y 250 -z 250 -A sam -D miseq_gmap -d miseq --input-buffer-size 10000 --sam-multiple-primaries ' + \" \".join(reads) + ' > ' + lane + '.sam')\n",
      "    \n",
      "    # convert from .sam file to .bam file\n",
      "    os.system('samtools view -b -S ' + lane + '.sam > ' + lane + '.bam')\n",
      "    \n",
      "    # sort .bam file\n",
      "    os.system('samtools sort ' + lane + '.bam ' + lane + '.sorted')\n",
      "    \n",
      "    # index bam file\n",
      "    os.system('samtools index ' + lane + '.sorted.bam')\n",
      "    \n",
      "    # remove temporary .sam and .bam files\n",
      "    os.system('rm ' + lane + '.sam')\n",
      "    os.system('rm ' + lane + '.bam')\n",
      "    \n",
      "    # use pysamstats to count the number of reads at each bp that have aligned with an insertion or deletion\n",
      "    # change the --fasta argument to match the fasta file used to create the gmap database\n",
      "    os.system('pysamstats --type variation -D 5000000 ' + lane + '.sorted.bam --fasta   genome.fa > variants/' + lane + '.variant.stats')\n"
     ],
     "language": "python",
     "metadata": {},
     "outputs": [
      {
       "output_type": "stream",
       "stream": "stdout",
       "text": [
        "['running laneS1']\n",
        "['running laneS2']"
       ]
      },
      {
       "output_type": "stream",
       "stream": "stdout",
       "text": [
        "\n",
        "['running laneS3']"
       ]
      },
      {
       "output_type": "stream",
       "stream": "stdout",
       "text": [
        "\n",
        "['running laneS4']"
       ]
      },
      {
       "output_type": "stream",
       "stream": "stdout",
       "text": [
        "\n",
        "['running laneS5']"
       ]
      },
      {
       "output_type": "stream",
       "stream": "stdout",
       "text": [
        "\n",
        "['running laneS6']"
       ]
      },
      {
       "output_type": "stream",
       "stream": "stdout",
       "text": [
        "\n",
        "['running laneS7']"
       ]
      },
      {
       "output_type": "stream",
       "stream": "stdout",
       "text": [
        "\n",
        "['running laneS8']"
       ]
      },
      {
       "output_type": "stream",
       "stream": "stdout",
       "text": [
        "\n",
        "['running laneS9']"
       ]
      },
      {
       "output_type": "stream",
       "stream": "stdout",
       "text": [
        "\n",
        "['running laneS10']"
       ]
      },
      {
       "output_type": "stream",
       "stream": "stdout",
       "text": [
        "\n",
        "['running laneS11']"
       ]
      },
      {
       "output_type": "stream",
       "stream": "stdout",
       "text": [
        "\n",
        "['running laneS12']"
       ]
      },
      {
       "output_type": "stream",
       "stream": "stdout",
       "text": [
        "\n",
        "['running laneS13']"
       ]
      },
      {
       "output_type": "stream",
       "stream": "stdout",
       "text": [
        "\n",
        "['running laneS14']"
       ]
      },
      {
       "output_type": "stream",
       "stream": "stdout",
       "text": [
        "\n",
        "['running laneS15']"
       ]
      },
      {
       "output_type": "stream",
       "stream": "stdout",
       "text": [
        "\n",
        "['running laneS16']"
       ]
      },
      {
       "output_type": "stream",
       "stream": "stdout",
       "text": [
        "\n",
        "['running laneS17']"
       ]
      },
      {
       "output_type": "stream",
       "stream": "stdout",
       "text": [
        "\n",
        "['running laneS18']"
       ]
      },
      {
       "output_type": "stream",
       "stream": "stdout",
       "text": [
        "\n",
        "['running laneS19']"
       ]
      },
      {
       "output_type": "stream",
       "stream": "stdout",
       "text": [
        "\n",
        "['running laneS20']"
       ]
      },
      {
       "output_type": "stream",
       "stream": "stdout",
       "text": [
        "\n",
        "['running laneS21']"
       ]
      },
      {
       "output_type": "stream",
       "stream": "stdout",
       "text": [
        "\n",
        "['running laneS22']"
       ]
      },
      {
       "output_type": "stream",
       "stream": "stdout",
       "text": [
        "\n",
        "['running laneS23']"
       ]
      },
      {
       "output_type": "stream",
       "stream": "stdout",
       "text": [
        "\n",
        "['running laneS24']"
       ]
      },
      {
       "output_type": "stream",
       "stream": "stdout",
       "text": [
        "\n",
        "['running laneS25']"
       ]
      },
      {
       "output_type": "stream",
       "stream": "stdout",
       "text": [
        "\n",
        "['running laneS26']"
       ]
      },
      {
       "output_type": "stream",
       "stream": "stdout",
       "text": [
        "\n",
        "['running laneS27']"
       ]
      },
      {
       "output_type": "stream",
       "stream": "stdout",
       "text": [
        "\n",
        "['running laneS28']"
       ]
      },
      {
       "output_type": "stream",
       "stream": "stdout",
       "text": [
        "\n",
        "['running laneS29']"
       ]
      },
      {
       "output_type": "stream",
       "stream": "stdout",
       "text": [
        "\n",
        "['running laneS30']"
       ]
      },
      {
       "output_type": "stream",
       "stream": "stdout",
       "text": [
        "\n",
        "['running laneS31']"
       ]
      },
      {
       "output_type": "stream",
       "stream": "stdout",
       "text": [
        "\n",
        "['running laneS32']"
       ]
      },
      {
       "output_type": "stream",
       "stream": "stdout",
       "text": [
        "\n",
        "['running laneS33']"
       ]
      },
      {
       "output_type": "stream",
       "stream": "stdout",
       "text": [
        "\n",
        "['running laneS34']"
       ]
      },
      {
       "output_type": "stream",
       "stream": "stdout",
       "text": [
        "\n",
        "['running laneS35']"
       ]
      },
      {
       "output_type": "stream",
       "stream": "stdout",
       "text": [
        "\n",
        "['running laneS36']"
       ]
      },
      {
       "output_type": "stream",
       "stream": "stdout",
       "text": [
        "\n",
        "['running laneS37']"
       ]
      },
      {
       "output_type": "stream",
       "stream": "stdout",
       "text": [
        "\n",
        "['running laneS38']"
       ]
      },
      {
       "output_type": "stream",
       "stream": "stdout",
       "text": [
        "\n",
        "['running laneS39']"
       ]
      },
      {
       "output_type": "stream",
       "stream": "stdout",
       "text": [
        "\n",
        "['running laneS40']"
       ]
      },
      {
       "output_type": "stream",
       "stream": "stdout",
       "text": [
        "\n",
        "['running laneS41']"
       ]
      },
      {
       "output_type": "stream",
       "stream": "stdout",
       "text": [
        "\n",
        "['running laneS42']"
       ]
      },
      {
       "output_type": "stream",
       "stream": "stdout",
       "text": [
        "\n",
        "['running laneS43']"
       ]
      },
      {
       "output_type": "stream",
       "stream": "stdout",
       "text": [
        "\n",
        "['running laneS44']"
       ]
      },
      {
       "output_type": "stream",
       "stream": "stdout",
       "text": [
        "\n",
        "['running laneS45']"
       ]
      },
      {
       "output_type": "stream",
       "stream": "stdout",
       "text": [
        "\n",
        "['running laneS46']"
       ]
      },
      {
       "output_type": "stream",
       "stream": "stdout",
       "text": [
        "\n",
        "['running laneS47']"
       ]
      },
      {
       "output_type": "stream",
       "stream": "stdout",
       "text": [
        "\n",
        "['running laneS48']"
       ]
      },
      {
       "output_type": "stream",
       "stream": "stdout",
       "text": [
        "\n",
        "['running laneS49']"
       ]
      },
      {
       "output_type": "stream",
       "stream": "stdout",
       "text": [
        "\n",
        "['running laneS50']"
       ]
      },
      {
       "output_type": "stream",
       "stream": "stdout",
       "text": [
        "\n",
        "['running laneS51']"
       ]
      },
      {
       "output_type": "stream",
       "stream": "stdout",
       "text": [
        "\n",
        "['running laneS52']"
       ]
      },
      {
       "output_type": "stream",
       "stream": "stdout",
       "text": [
        "\n",
        "['running laneS53']"
       ]
      },
      {
       "output_type": "stream",
       "stream": "stdout",
       "text": [
        "\n",
        "['running laneS54']"
       ]
      },
      {
       "output_type": "stream",
       "stream": "stdout",
       "text": [
        "\n",
        "['running laneS55']"
       ]
      },
      {
       "output_type": "stream",
       "stream": "stdout",
       "text": [
        "\n",
        "['running laneS56']"
       ]
      },
      {
       "output_type": "stream",
       "stream": "stdout",
       "text": [
        "\n",
        "['running laneS57']"
       ]
      },
      {
       "output_type": "stream",
       "stream": "stdout",
       "text": [
        "\n",
        "['running laneS58']"
       ]
      },
      {
       "output_type": "stream",
       "stream": "stdout",
       "text": [
        "\n",
        "['running laneS59']"
       ]
      },
      {
       "output_type": "stream",
       "stream": "stdout",
       "text": [
        "\n",
        "['running laneS60']"
       ]
      },
      {
       "output_type": "stream",
       "stream": "stdout",
       "text": [
        "\n",
        "['running laneS61']"
       ]
      },
      {
       "output_type": "stream",
       "stream": "stdout",
       "text": [
        "\n",
        "['running laneS62']"
       ]
      },
      {
       "output_type": "stream",
       "stream": "stdout",
       "text": [
        "\n",
        "['running laneS63']"
       ]
      },
      {
       "output_type": "stream",
       "stream": "stdout",
       "text": [
        "\n",
        "['running laneS64']"
       ]
      },
      {
       "output_type": "stream",
       "stream": "stdout",
       "text": [
        "\n",
        "['running laneS65']"
       ]
      },
      {
       "output_type": "stream",
       "stream": "stdout",
       "text": [
        "\n",
        "['running laneS66']"
       ]
      },
      {
       "output_type": "stream",
       "stream": "stdout",
       "text": [
        "\n",
        "['running laneS67']"
       ]
      },
      {
       "output_type": "stream",
       "stream": "stdout",
       "text": [
        "\n",
        "['running laneS68']"
       ]
      },
      {
       "output_type": "stream",
       "stream": "stdout",
       "text": [
        "\n",
        "['running laneS69']"
       ]
      },
      {
       "output_type": "stream",
       "stream": "stdout",
       "text": [
        "\n",
        "['running laneS70']"
       ]
      },
      {
       "output_type": "stream",
       "stream": "stdout",
       "text": [
        "\n",
        "['running laneS71']"
       ]
      },
      {
       "output_type": "stream",
       "stream": "stdout",
       "text": [
        "\n",
        "['running laneS72']"
       ]
      },
      {
       "output_type": "stream",
       "stream": "stdout",
       "text": [
        "\n",
        "['running laneS73']"
       ]
      },
      {
       "output_type": "stream",
       "stream": "stdout",
       "text": [
        "\n",
        "['running laneS74']"
       ]
      },
      {
       "output_type": "stream",
       "stream": "stdout",
       "text": [
        "\n",
        "['running laneS75']"
       ]
      },
      {
       "output_type": "stream",
       "stream": "stdout",
       "text": [
        "\n",
        "['running laneS76']"
       ]
      },
      {
       "output_type": "stream",
       "stream": "stdout",
       "text": [
        "\n",
        "['running laneS77']"
       ]
      },
      {
       "output_type": "stream",
       "stream": "stdout",
       "text": [
        "\n",
        "['running laneS78']"
       ]
      },
      {
       "output_type": "stream",
       "stream": "stdout",
       "text": [
        "\n",
        "['running laneS79']"
       ]
      },
      {
       "output_type": "stream",
       "stream": "stdout",
       "text": [
        "\n",
        "['running laneS80']"
       ]
      },
      {
       "output_type": "stream",
       "stream": "stdout",
       "text": [
        "\n",
        "['running laneS81']"
       ]
      },
      {
       "output_type": "stream",
       "stream": "stdout",
       "text": [
        "\n",
        "['running laneS82']"
       ]
      },
      {
       "output_type": "stream",
       "stream": "stdout",
       "text": [
        "\n",
        "['running laneS83']"
       ]
      },
      {
       "output_type": "stream",
       "stream": "stdout",
       "text": [
        "\n",
        "['running laneS84']"
       ]
      },
      {
       "output_type": "stream",
       "stream": "stdout",
       "text": [
        "\n",
        "['running laneS85']"
       ]
      },
      {
       "output_type": "stream",
       "stream": "stdout",
       "text": [
        "\n",
        "['running laneS86']"
       ]
      },
      {
       "output_type": "stream",
       "stream": "stdout",
       "text": [
        "\n",
        "['running laneS87']"
       ]
      },
      {
       "output_type": "stream",
       "stream": "stdout",
       "text": [
        "\n",
        "['running laneS88']"
       ]
      },
      {
       "output_type": "stream",
       "stream": "stdout",
       "text": [
        "\n",
        "['running laneS89']"
       ]
      },
      {
       "output_type": "stream",
       "stream": "stdout",
       "text": [
        "\n",
        "['running laneS90']"
       ]
      },
      {
       "output_type": "stream",
       "stream": "stdout",
       "text": [
        "\n",
        "['running laneS91']"
       ]
      },
      {
       "output_type": "stream",
       "stream": "stdout",
       "text": [
        "\n",
        "['running laneS92']"
       ]
      },
      {
       "output_type": "stream",
       "stream": "stdout",
       "text": [
        "\n",
        "['running laneS93']"
       ]
      },
      {
       "output_type": "stream",
       "stream": "stdout",
       "text": [
        "\n",
        "['running laneS94']"
       ]
      },
      {
       "output_type": "stream",
       "stream": "stdout",
       "text": [
        "\n",
        "['running laneS95']"
       ]
      },
      {
       "output_type": "stream",
       "stream": "stdout",
       "text": [
        "\n",
        "['running laneS96']"
       ]
      },
      {
       "output_type": "stream",
       "stream": "stdout",
       "text": [
        "\n"
       ]
      }
     ],
     "prompt_number": 13
    },
    {
     "cell_type": "code",
     "collapsed": false,
     "input": [],
     "language": "python",
     "metadata": {},
     "outputs": []
    }
   ],
   "metadata": {}
  }
 ]
}