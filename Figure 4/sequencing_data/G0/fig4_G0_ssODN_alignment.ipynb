{
 "metadata": {
  "name": "",
  "signature": "sha256:f6d76b4d9f9fcd6008b5a9591d347040ab8d330998fc9c6f6967213de8fa55aa"
 },
 "nbformat": 3,
 "nbformat_minor": 0,
 "worksheets": [
  {
   "cells": [
    {
     "cell_type": "markdown",
     "metadata": {},
     "source": [
      "##script to align deep sequencing reads and detect indels caused by ZFN/TALEN/CRISPR<br>\n",
      "\n",
      "Companion to the bioRxiv manuscript \n",
      "[Genome engineering with CRISPR-Cas9 in the mosquito Aedes aegypti](http://bioRxiv.org)<br>\n",
      "Katie E. Kistler, Leslie B. Vosshall, and [Benjamin J. Matthews](bmatthews@rockefeller.edu)<br>\n",
      "[github link](http://github.com/bnmtthws/crispr_indel/)<br>\n",
      "\n",
      "###Figure 4 G0 data: alignment\n",
      "\n",
      "---\n",
      "tested on MacOS X 10.10 (Yosemite) and Linux (RHEL 6)\n",
      "\n",
      "software requirements and *tested versions*:<br>\n",
      "1. gmap/gsnap [http://research-pub.gene.com/gmap/] *version 10-22-2014*<br>\n",
      "2. pysam [https://github.com/pysam-developers/pysam] *version 0.8.0*<br>\n",
      "3. samtools/htslib [http://www.htslib.org] *version 1.1*<br>\n",
      "  \n",
      "python package requirements:<br>\n",
      "1. pysamstats [https://github.com/alimanfoo/pysamstats] *version 0.19*<br>\n",
      "  \n",
      "---\n",
      "input:\n",
      "1. fastq/ - a directory of .fastq files with numbered samples denoted by *SX*.fastq (the default output from an Illumina MiSeq instrument)\n",
      "2. genome.fa - a fasta file to serve as a 'genome' for the gapped alignments\n",
      "\n",
      "output:\n",
      "1. sorted .bam files for each sample\n",
      "2. *.variant.stats file summarizing indel/SNP rates for each sample"
     ]
    },
    {
     "cell_type": "markdown",
     "metadata": {},
     "source": [
      "###for figure 4 - quantification of ssODN HR in wtrw G0 injections from LV-03-12\n",
      "####500 cycle v2 cartridge - fastq files have been stitched by Illumina MiSeq processing software"
     ]
    },
    {
     "cell_type": "code",
     "collapsed": false,
     "input": [
      "# import our libraries\n",
      "import sys,re,csv,glob,os,pysam"
     ],
     "language": "python",
     "metadata": {},
     "outputs": [],
     "prompt_number": 2
    },
    {
     "cell_type": "heading",
     "level": 3,
     "metadata": {},
     "source": [
      "generate gmap database"
     ]
    },
    {
     "cell_type": "code",
     "collapsed": false,
     "input": [
      "!mkdir miseq_gmap\n",
      "!gmap_build -D miseq_gmap -d miseq genome.fa"
     ],
     "language": "python",
     "metadata": {},
     "outputs": [
      {
       "output_type": "stream",
       "stream": "stdout",
       "text": [
        "-k flag not specified, so building with default 15-mers\r\n",
        "Sorting chromosomes in chrom order.  To turn off or sort other ways, use the -s flag.\r\n"
       ]
      },
      {
       "output_type": "stream",
       "stream": "stdout",
       "text": [
        "Checking compiler assumptions for popcnt: 000041A7 __builtin_clz=17 __builtin_ctz=0 _mm_popcnt_u32=7 __builtin_popcount=7 \r\n",
        "Checking compiler assumptions for SSE2: 000041A7 10D63AF1 xor=10D67B56\r\n",
        "Checking compiler assumptions for SSE4.1: -89 -15 max=241 => compiler zero extends\r\n",
        "Creating files in directory miseq_gmap/miseq\r\n"
       ]
      },
      {
       "output_type": "stream",
       "stream": "stdout",
       "text": [
        "Running /usr/local/bin/fa_coords    -o miseq_gmap/miseq.coords -f miseq_gmap/miseq.sources\r\n"
       ]
      },
      {
       "output_type": "stream",
       "stream": "stdout",
       "text": [
        "Opening file genome.fa\r\n",
        "  Processed short contigs (<1000000 nt): .\r\n",
        "============================================================\r\n",
        "Contig mapping information has been written to file miseq_gmap/miseq.coords.\r\n",
        "You should look at this file, and edit it if necessary\r\n",
        "If everything is okay, you should proceed by running\r\n",
        "    make gmapdb\r\n",
        "============================================================\r\n"
       ]
      },
      {
       "output_type": "stream",
       "stream": "stdout",
       "text": [
        "Running /usr/local/bin/gmap_process  -c miseq_gmap/miseq.coords -f miseq_gmap/miseq.sources | /usr/local/bin/gmapindex  -d miseq -D miseq_gmap/miseq -A \r\n"
       ]
      },
      {
       "output_type": "stream",
       "stream": "stdout",
       "text": [
        "Reading coordinates from file miseq_gmap/miseq.coords\r\n",
        "Logging contig wtrw at wtrw:1..620 in genome miseq\r\n",
        "Total genomic length = 620 bp\r\n",
        "Chromosome wtrw has universal coordinates 1..620\r\n",
        "Writing IIT file header information...coordinates require 4 bytes each...done\r\n",
        "Processing null division/chromosome...sorting...writing...done (1 intervals)\r\n",
        "Writing IIT file footer information...done\r\n",
        "Writing IIT file header information...coordinates require 4 bytes each...done\r\n",
        "Processing null division/chromosome...sorting...writing...done (1 intervals)\r\n",
        "Writing IIT file footer information...done\r\n"
       ]
      },
      {
       "output_type": "stream",
       "stream": "stdout",
       "text": [
        "Running /usr/local/bin/gmap_process  -c miseq_gmap/miseq.coords -f miseq_gmap/miseq.sources | /usr/local/bin/gmapindex  -d miseq -F miseq_gmap/miseq -D miseq_gmap/miseq -G\r\n",
        "Genome length is 620 nt\r\n",
        "Trying to allocate 60*4 bytes of memory...succeeded.  Building genome in memory.\r\n",
        "Reading coordinates from file miseq_gmap/miseq.coords\r\n"
       ]
      },
      {
       "output_type": "stream",
       "stream": "stdout",
       "text": [
        "Writing contig wtrw to universal coordinates 1..620 in genome miseq\r\n",
        "A total of 0 non-ACGTNX characters were seen in the genome.\r\n"
       ]
      },
      {
       "output_type": "stream",
       "stream": "stdout",
       "text": [
        "Running cat miseq_gmap/miseq/miseq.genomecomp | /usr/local/bin/gmapindex -d miseq -U > miseq_gmap/miseq/miseq.genomebits128\r\n"
       ]
      },
      {
       "output_type": "stream",
       "stream": "stdout",
       "text": [
        "Running cat miseq_gmap/miseq/miseq.genomecomp | /usr/local/bin/gmapindex -k 15 -q 3  -d miseq -F miseq_gmap/miseq -D miseq_gmap/miseq -N\r\n",
        "Counting positions in genome miseq (15 bp every 3 bp), position 0\r\n",
        "Number of offsets: 202 => pages file not required\r\n"
       ]
      },
      {
       "output_type": "stream",
       "stream": "stdout",
       "text": [
        "Running cat miseq_gmap/miseq/miseq.genomecomp | /usr/local/bin/gmapindex -k 15 -q 3  -d miseq -F miseq_gmap/miseq -D miseq_gmap/miseq -O \r\n",
        "Offset compression types: bitpack64\r\n",
        "Allocating 1073741825*4 bytes for offsets\r\n",
        "Indexing offsets of oligomers in genome miseq (15 bp every 3 bp), position 0\r\n"
       ]
      },
      {
       "output_type": "stream",
       "stream": "stdout",
       "text": [
        "Writing 1073741825 offsets compressed via bitpack64 to file with total of 202 k-mers..."
       ]
      },
      {
       "output_type": "stream",
       "stream": "stdout",
       "text": [
        "Checking bitpack..."
       ]
      },
      {
       "output_type": "stream",
       "stream": "stdout",
       "text": [
        "done\r\n"
       ]
      },
      {
       "output_type": "stream",
       "stream": "stdout",
       "text": [
        "Running cat miseq_gmap/miseq/miseq.genomecomp | /usr/local/bin/gmapindex -k 15 -q 3  -d miseq -F miseq_gmap/miseq -D miseq_gmap/miseq -P\r\n",
        "Looking for index files in directory miseq_gmap/miseq\r\n",
        "  Pointers file is miseq.ref153offsets64meta\r\n",
        "  Offsets file is miseq.ref153offsets64strm\r\n",
        "  Positions file is miseq.ref153positions\r\n"
       ]
      },
      {
       "output_type": "stream",
       "stream": "stdout",
       "text": [
        "Allocating memory (1073741825 4-byte words) for offsets, kmer 15...done\r\n",
        "Expanding offsetsstrm into offsets..."
       ]
      },
      {
       "output_type": "stream",
       "stream": "stdout",
       "text": [
        "done\r\n"
       ]
      },
      {
       "output_type": "stream",
       "stream": "stdout",
       "text": [
        "Trying to allocate 202*4 bytes of memory for positions...succeeded.  Building positions in memory.\r\n",
        "Indexing positions of oligomers in genome miseq (15 bp every 3 bp), position 0\r\n",
        "Writing 202 genomic positions to file miseq_gmap/miseq/miseq.ref153positions ...\r\n"
       ]
      },
      {
       "output_type": "stream",
       "stream": "stdout",
       "text": [
        "Running /usr/local/bin/gmapindex -d miseq -F miseq_gmap/miseq -D miseq_gmap/miseq -S\r\n",
        "Building suffix array\r\n",
        "SACA_K called with n = 621, K = 5, level 0\r\n",
        "SACA_K called with n = 177, K = 0, level 1\r\n"
       ]
      },
      {
       "output_type": "stream",
       "stream": "stdout",
       "text": [
        "For indexsize 12, occupied 609/16777216\r\n",
        "Optimal indexsize = 12\r\n"
       ]
      },
      {
       "output_type": "stream",
       "stream": "stdout",
       "text": [
        "Running /usr/local/bin/gmapindex -d miseq -F miseq_gmap/miseq -D miseq_gmap/miseq -L\r\n",
        "Building LCP array\r\n",
        "Writing temporary file for rank...done\r\n",
        "Writing temporary file for permuted sarray...done\r\n"
       ]
      },
      {
       "output_type": "stream",
       "stream": "stdout",
       "text": [
        "Byte-coding: 621 values < 255, 0 exceptions >= 255 (0.0%)\r\n",
        "Building DC array\r\n",
        "Building child array\r\n",
        "Byte-coding: 620 values < 255, 1 exceptions >= 255 (0.2%)\r\n",
        "Writing bytes file...done\r\n"
       ]
      }
     ],
     "prompt_number": 3
    },
    {
     "cell_type": "markdown",
     "metadata": {},
     "source": [
      "####make directory to store *.variant.stats files"
     ]
    },
    {
     "cell_type": "code",
     "collapsed": false,
     "input": [
      "!mkdir variants"
     ],
     "language": "python",
     "metadata": {},
     "outputs": []
    },
    {
     "cell_type": "code",
     "collapsed": false,
     "input": [
      "lanes=[]\n",
      "for i in range(1,10):\n",
      "    lanes.append(\"S\"+str(i))\n",
      "\n",
      "# the first argument to the script is a directory that contains all of the .fq files\n",
      "readfiles_dir = 'fastq';\n",
      "\n",
      "# cycle through each of the samples\n",
      "for lane in lanes:\n",
      "    \n",
      "    # this will be the file name of the bam file created\n",
      "    bamFile= '.'.join([lane,'sorted.bam']);\n",
      "    \n",
      "    # this finds all of the .fastq files associated with the sample number\n",
      "    reads = glob.glob(readfiles_dir + '/*' + lane + '_*.fastq')\n",
      "    \n",
      "    print(['running lane' + lane])\n",
      "    \n",
      "    # gsnap alignment\n",
      "    # change the -d argument to match a gmap database that you've built with gmap_build\n",
      "    \n",
      "    os.system('gsnap -t 8 -B 4 -y 250 -z 250 -A sam -D miseq_gmap -d miseq --input-buffer-size 10000 --sam-multiple-primaries ' + \" \".join(reads) + ' > ' + lane + '.sam')\n",
      "    \n",
      "    # convert from .sam file to .bam file\n",
      "    os.system('samtools view -b -S ' + lane + '.sam > ' + lane + '.bam')\n",
      "    \n",
      "    # sort .bam file\n",
      "    os.system('samtools sort ' + lane + '.bam ' + lane + '.sorted')\n",
      "    \n",
      "    # index bam file\n",
      "    os.system('samtools index ' + lane + '.sorted.bam')\n",
      "    \n",
      "    # remove temporary .sam and .bam files\n",
      "    os.system('rm ' + lane + '.sam')\n",
      "    os.system('rm ' + lane + '.bam')\n",
      "    \n",
      "    # use pysamstats to count the number of reads at each bp that have aligned with an insertion or deletion\n",
      "    # change the --fasta argument to match the fasta file used to create the gmap database\n",
      "    os.system('pysamstats --type variation -D 5000000 ' + lane + '.sorted.bam --fasta   genome.fa > variants/' + lane + '.variant.stats')\n"
     ],
     "language": "python",
     "metadata": {},
     "outputs": [
      {
       "output_type": "stream",
       "stream": "stdout",
       "text": [
        "['running laneS1']\n",
        "['running laneS2']"
       ]
      },
      {
       "output_type": "stream",
       "stream": "stdout",
       "text": [
        "\n",
        "['running laneS3']"
       ]
      },
      {
       "output_type": "stream",
       "stream": "stdout",
       "text": [
        "\n",
        "['running laneS4']"
       ]
      },
      {
       "output_type": "stream",
       "stream": "stdout",
       "text": [
        "\n",
        "['running laneS5']"
       ]
      },
      {
       "output_type": "stream",
       "stream": "stdout",
       "text": [
        "\n",
        "['running laneS6']"
       ]
      },
      {
       "output_type": "stream",
       "stream": "stdout",
       "text": [
        "\n",
        "['running laneS7']"
       ]
      },
      {
       "output_type": "stream",
       "stream": "stdout",
       "text": [
        "\n",
        "['running laneS8']"
       ]
      },
      {
       "output_type": "stream",
       "stream": "stdout",
       "text": [
        "\n",
        "['running laneS9']"
       ]
      },
      {
       "output_type": "stream",
       "stream": "stdout",
       "text": [
        "\n"
       ]
      }
     ],
     "prompt_number": 4
    },
    {
     "cell_type": "code",
     "collapsed": false,
     "input": [],
     "language": "python",
     "metadata": {},
     "outputs": []
    }
   ],
   "metadata": {}
  }
 ]
}