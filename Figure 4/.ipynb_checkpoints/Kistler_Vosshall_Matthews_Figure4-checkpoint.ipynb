{
 "metadata": {
  "name": "",
  "signature": "sha256:32a0305c8cd021e47ddbe0f102bf6204041f7a32921cafafdeba0ea067b07cdd"
 },
 "nbformat": 3,
 "nbformat_minor": 0,
 "worksheets": [
  {
   "cells": [
    {
     "cell_type": "markdown",
     "metadata": {},
     "source": [
      "##script to align deep sequencing reads and detect indels caused by ZFN/TALEN/CRISPR<br>\n",
      "\n",
      "Companion to the bioRxiv manuscript \n",
      "[Genome engineering with CRISPR-Cas9 in the mosquito Aedes aegypti](http://biorxiv.org/content/early/2014/12/27/013276)<br>\n",
      "Katie E. Kistler, Leslie B. Vosshall, and [Benjamin J. Matthews](mailto://Ben.Matthews@rockefeller.edu)<br>\n",
      "[github link](http://github.com/bnmtthws/crispr_indel/)<br>\n",
      "\n",
      "###Figure 4: data analysis and plotting\n",
      "\n",
      "---\n",
      "python package requirements:<br>\n",
      "1. numpy\n",
      "2. pandas\n",
      "3. seaborn\n",
      "4. PyVCF (0.6.7)\n",
      "\n",
      "other software requirements:<br>\n",
      "1. Picard (v1.126)\n",
      "2. GATK (v.3.3.0)\n",
      "\n",
      "---\n",
      "compilation of analysis notebooks from the following sub-folders: \n",
      "1. sequencing_data/G0 \n",
      "2. sequencing_data/G1"
     ]
    },
    {
     "cell_type": "markdown",
     "metadata": {},
     "source": [
      "#Figure 4A-D: G0 sequencing data\n",
      "###G0 samples from LV-02-13\n",
      "####5-6 individuals per sample"
     ]
    },
    {
     "cell_type": "code",
     "collapsed": false,
     "input": [
      "import pandas as pd\n",
      "import numpy as np\n",
      "import seaborn\n",
      "import matplotlib as mp\n",
      "import os\n",
      "import vcf\n",
      "%matplotlib inline"
     ],
     "language": "python",
     "metadata": {},
     "outputs": [],
     "prompt_number": 1
    },
    {
     "cell_type": "markdown",
     "metadata": {},
     "source": [
      "###Figure 4A: calculating cut rates in reads from G0 amplicons\n",
      "\n",
      "read samples file (describing the relationship between S_num and other variables to plot) and injections file (describing the location of CRISPR cut sites in the genome file)"
     ]
    },
    {
     "cell_type": "code",
     "collapsed": false,
     "input": [
      "G0_samples = pd.read_csv('sequencing_data/G0/legends/samples.csv')\n",
      "G0_injections = pd.read_csv('sequencing_data/G0/legends/injections.csv')"
     ],
     "language": "python",
     "metadata": {},
     "outputs": [],
     "prompt_number": 2
    },
    {
     "cell_type": "markdown",
     "metadata": {},
     "source": [
      "####read in all .variant stats files into a pandas DataFrame (add column with S_num)"
     ]
    },
    {
     "cell_type": "code",
     "collapsed": false,
     "input": [
      "G0_overall = pd.DataFrame()\n",
      "for sample in G0_samples.iloc[0:,0]:\n",
      "    temp = pd.read_csv('sequencing_data/G0/variants/' + sample + '.variant.stats',delimiter='\\t')\n",
      "    temp['S_num'] = sample\n",
      "    G0_overall = G0_overall.append(temp)"
     ],
     "language": "python",
     "metadata": {},
     "outputs": [],
     "prompt_number": 4
    },
    {
     "cell_type": "markdown",
     "metadata": {},
     "source": [
      "####filter by total read number (only keep bases with > 1000 reads aligning)\n",
      "prevents analysis of reads that slip through Miseq demultiplexing"
     ]
    },
    {
     "cell_type": "code",
     "collapsed": false,
     "input": [
      "G0_overall_filtered = G0_overall[G0_overall['reads_all'] > 1000][['S_num','chrom','pos','reads_all','insertions','deletions']]\n",
      "G0_overall_filtered['indel_rate'] = (G0_overall_filtered['insertions'] + G0_overall_filtered['deletions']) / G0_overall_filtered['reads_all']\n",
      "G0_overall_filtered = G0_overall_filtered.merge(G0_samples,on='S_num')\n",
      "G0_overall_filtered = G0_overall_filtered.merge(G0_injections,on=['injection','chrom'])"
     ],
     "language": "python",
     "metadata": {},
     "outputs": [],
     "prompt_number": 5
    },
    {
     "cell_type": "markdown",
     "metadata": {},
     "source": [
      "####merge alignment data with data on injections"
     ]
    },
    {
     "cell_type": "code",
     "collapsed": false,
     "input": [
      "G0_final_data = pd.DataFrame()\n",
      "\n",
      "for inj in G0_injections.iterrows():\n",
      "    G0_overall_filtered[G0_overall_filtered['name_y'].isin([inj[1]['name']])]\n",
      "    temp = G0_overall_filtered[G0_overall_filtered['name_y'].isin([inj[1]['name']]) & G0_overall_filtered['pos'].isin(range(inj[1]['cut_site'] - 30, inj[1]['cut_site'] + 30 ))]   \n",
      "    temp['sgRNA_pos'] = temp['pos'] - inj[1]['cut_site']\n",
      "    if inj[1]['strand'] == 'rev':\n",
      "        temp['sgRNA_pos'] = temp['sgRNA_pos'] * -1\n",
      "        \n",
      "    G0_final_data = G0_final_data.append(temp)"
     ],
     "language": "python",
     "metadata": {},
     "outputs": [],
     "prompt_number": 7
    },
    {
     "cell_type": "markdown",
     "metadata": {},
     "source": [
      "#### plot the insertion and deletion rate, split by cas9 and by gene"
     ]
    },
    {
     "cell_type": "code",
     "collapsed": false,
     "input": [
      "seaborn.set_style(\"ticks\")\n",
      "ax = seaborn.factorplot('sgRNA_pos','indel_rate',col='name_y',hue='name_x',\n",
      "                   ci=95,kind='point',data=G0_final_data,sharex=False,sharey=True)"
     ],
     "language": "python",
     "metadata": {},
     "outputs": [
      {
       "metadata": {},
       "output_type": "display_data",
       "png": "[encoded data removed]",
       "text": [
        "<matplotlib.figure.Figure at 0x10b7b47b8>"
       ]
      }
     ],
     "prompt_number": 8
    },
    {
     "cell_type": "markdown",
     "metadata": {},
     "source": [
      "####write data to .csv file"
     ]
    },
    {
     "cell_type": "code",
     "collapsed": false,
     "input": [
      "G0_final_data.to_csv('Fig4_G0_cut.csv')"
     ],
     "language": "python",
     "metadata": {},
     "outputs": [],
     "prompt_number": 9
    },
    {
     "cell_type": "markdown",
     "metadata": {},
     "source": [
      "####write figure to .pdf file"
     ]
    },
    {
     "cell_type": "code",
     "collapsed": false,
     "input": [
      "ax.savefig(format='pdf',filename='Fig4C_G0_cutrate.pdf')"
     ],
     "language": "python",
     "metadata": {},
     "outputs": [],
     "prompt_number": 10
    },
    {
     "cell_type": "markdown",
     "metadata": {},
     "source": [
      "####extract max. cut rate for each S_num and sgRNA"
     ]
    },
    {
     "cell_type": "code",
     "collapsed": false,
     "input": [
      "G0_summary_data = G0_final_data.groupby(['name_y','S_num'],as_index=False)[['indel_rate']].max()"
     ],
     "language": "python",
     "metadata": {},
     "outputs": [],
     "prompt_number": 11
    },
    {
     "cell_type": "code",
     "collapsed": false,
     "input": [
      "G0_summary_data.to_csv('wtrw_LV0213_g0_summary.csv')"
     ],
     "language": "python",
     "metadata": {},
     "outputs": [],
     "prompt_number": 12
    },
    {
     "cell_type": "markdown",
     "metadata": {},
     "source": [
      "####plot max. cut rate for each sgRNA"
     ]
    },
    {
     "cell_type": "code",
     "collapsed": false,
     "input": [
      "ax = seaborn.factorplot(data=G0_summary_data,x='name_y',y='indel_rate',kind='bar')"
     ],
     "language": "python",
     "metadata": {},
     "outputs": [
      {
       "metadata": {},
       "output_type": "display_data",
       "png": "[encoded data removed]",
       "text": [
        "<matplotlib.figure.Figure at 0x10df5f470>"
       ]
      }
     ],
     "prompt_number": 13
    },
    {
     "cell_type": "markdown",
     "metadata": {},
     "source": [
      "####print mean and std. dev of the max cut rate for the G0 samples"
     ]
    },
    {
     "cell_type": "code",
     "collapsed": false,
     "input": [
      "G0_mean = str(np.mean(G0_summary_data[G0_summary_data['name_y'] == 'wtrwG0']['indel_rate']))\n",
      "G0_stdev = str(np.std(G0_summary_data[G0_summary_data['name_y'] == 'wtrwG0']['indel_rate'])) \n",
      "print('mean maximum cut rate: ' + G0_mean + ' \u00b1 ' + G0_stdev)"
     ],
     "language": "python",
     "metadata": {},
     "outputs": [
      {
       "output_type": "stream",
       "stream": "stdout",
       "text": [
        "mean maximum cut rate: 0.24837264645 \u00b1 0.0904270025224\n"
       ]
      }
     ],
     "prompt_number": 14
    },
    {
     "cell_type": "markdown",
     "metadata": {},
     "source": [
      "###Figure 4D: rates of ssODN incorporation in G0 sequencing\n",
      "#### import data on HDR calculated from samtools, using commands of this format:\n",
      ">samtools view S6.sorted.bam | cut -f3 | sort | uniq -c; samtools view S6.sorted.bam | grep TAATAAGGATCCATAACCTAAGG | grep wtrw | wc -l"
     ]
    },
    {
     "cell_type": "code",
     "collapsed": false,
     "input": [
      "G0_HDR_data = pd.read_csv('sequencing_data/G0/wtrw_g0_hdr_counts.csv')"
     ],
     "language": "python",
     "metadata": {},
     "outputs": [],
     "prompt_number": 15
    },
    {
     "cell_type": "code",
     "collapsed": false,
     "input": [
      "G0_HDR_data = G0_HDR_data.merge(G0_summary_data)"
     ],
     "language": "python",
     "metadata": {},
     "outputs": [],
     "prompt_number": 16
    },
    {
     "cell_type": "markdown",
     "metadata": {},
     "source": [
      "boxplot + scatterplot of HDR rates for the 6 samples"
     ]
    },
    {
     "cell_type": "code",
     "collapsed": false,
     "input": [
      "fig4d = mp.pyplot.figure()\n",
      "mp.pyplot.boxplot(G0_HDR_data['hdr_frac'])\n",
      "mp.pyplot.plot([1,1,1,1,1,1],G0_HDR_data['hdr_frac'],'r.')"
     ],
     "language": "python",
     "metadata": {},
     "outputs": [
      {
       "metadata": {},
       "output_type": "pyout",
       "prompt_number": 26,
       "text": [
        "[<matplotlib.lines.Line2D at 0x10dfbce48>]"
       ]
      },
      {
       "metadata": {},
       "output_type": "display_data",
       "png": "[encoded data removed]",
       "text": [
        "<matplotlib.figure.Figure at 0x10dfad4e0>"
       ]
      }
     ],
     "prompt_number": 26
    },
    {
     "cell_type": "code",
     "collapsed": false,
     "input": [
      "G0_HDR_mean = str(np.mean(G0_HDR_data['hdr_frac']))\n",
      "G0_HDR_stdev = str(np.std(G0_HDR_data['hdr_frac']))\n",
      "print('mean maximum HDR rate: ' + G0_HDR_mean + ' \u00b1 ' + G0_HDR_stdev)"
     ],
     "language": "python",
     "metadata": {},
     "outputs": [
      {
       "output_type": "stream",
       "stream": "stdout",
       "text": [
        "mean maximum HDR rate: 0.00711518327964 \u00b1 0.00662583378279\n"
       ]
      }
     ],
     "prompt_number": 28
    },
    {
     "cell_type": "markdown",
     "metadata": {},
     "source": [
      "####write figure to .pdf file"
     ]
    },
    {
     "cell_type": "code",
     "collapsed": false,
     "input": [
      "fig4d.savefig(format='pdf',filename='Fig4D_G0_ssODN_rates.pdf')"
     ],
     "language": "python",
     "metadata": {},
     "outputs": [],
     "prompt_number": 29
    },
    {
     "cell_type": "markdown",
     "metadata": {},
     "source": [
      "# Figure 4E: G1 sequencing data"
     ]
    },
    {
     "cell_type": "heading",
     "level": 4,
     "metadata": {},
     "source": [
      "read samples file (describing the relationship between S_num and other variables to plot) and injections file (describing the location of CRISPR cut sites in the genome file)"
     ]
    },
    {
     "cell_type": "code",
     "collapsed": false,
     "input": [
      "G1_samples = pd.read_csv('sequencing_data/G1/legends/samples.csv')\n",
      "G1_injections = pd.read_csv('sequencing_data/G1/legends/injections.csv')"
     ],
     "language": "python",
     "metadata": {},
     "outputs": [],
     "prompt_number": 31
    },
    {
     "cell_type": "heading",
     "level": 4,
     "metadata": {},
     "source": [
      "read in all .variant stats files into a pandas DataFrame (add column with S_num)"
     ]
    },
    {
     "cell_type": "code",
     "collapsed": false,
     "input": [
      "G1_overall = pd.DataFrame()\n",
      "for sample in G1_samples.iloc[0:,0]:\n",
      "    temp = pd.read_csv('sequencing_data/G1/variants/' + sample + '.variant.stats',delimiter='\\t')\n",
      "    temp['S_num'] = sample\n",
      "    G1_overall = G1_overall.append(temp)"
     ],
     "language": "python",
     "metadata": {},
     "outputs": [],
     "prompt_number": 32
    },
    {
     "cell_type": "heading",
     "level": 4,
     "metadata": {},
     "source": [
      "filter by total read number (prevents analysis of reads that slip through Miseq demultiplexing)"
     ]
    },
    {
     "cell_type": "code",
     "collapsed": false,
     "input": [
      "G1_overall_filtered = G1_overall[G1_overall['reads_all'] > 1000][['S_num','chrom','pos','reads_all','insertions','deletions']]\n",
      "G1_overall_filtered['indel_rate'] = (G1_overall_filtered['insertions'] + G1_overall_filtered['deletions']) / G1_overall_filtered['reads_all']\n",
      "G1_overall_filtered = G1_overall_filtered.merge(G1_samples,on='S_num')\n",
      "G1_overall_filtered = G1_overall_filtered.merge(G1_injections,on=['injection','chrom'])"
     ],
     "language": "python",
     "metadata": {},
     "outputs": [],
     "prompt_number": 33
    },
    {
     "cell_type": "markdown",
     "metadata": {},
     "source": [
      "####filter data and select all ppk: "
     ]
    },
    {
     "cell_type": "code",
     "collapsed": false,
     "input": [
      "G1_final_data = pd.DataFrame()\n",
      "\n",
      "for inj in G1_injections.iterrows():\n",
      "    G1_overall_filtered[G1_overall_filtered['name_y'].isin([inj[1]['name']])]\n",
      "    temp = G1_overall_filtered[G1_overall_filtered['name_y'].isin([inj[1]['name']]) & G1_overall_filtered['pos'].isin(range(inj[1]['cut_site'] - 30, inj[1]['cut_site'] + 30 ))]   \n",
      "    temp['sgRNA_pos'] = temp['pos'] - inj[1]['cut_site']\n",
      "    if inj[1]['strand'] == 'rev':\n",
      "        temp['sgRNA_pos'] = temp['sgRNA_pos'] * -1\n",
      "        \n",
      "    G1_final_data = G1_final_data.append(temp)"
     ],
     "language": "python",
     "metadata": {},
     "outputs": [],
     "prompt_number": 34
    },
    {
     "cell_type": "markdown",
     "metadata": {},
     "source": [
      "#### plot the insertion and deletion rate for each sample separately (it's a messy plot!)"
     ]
    },
    {
     "cell_type": "code",
     "collapsed": false,
     "input": [
      "seaborn.set_style(\"ticks\")\n",
      "ax = seaborn.factorplot('sgRNA_pos','indel_rate',col='name_y',hue='S_num',\n",
      "                   ci=95,kind='point',data=G1_final_data,sharex=False,sharey=True)"
     ],
     "language": "python",
     "metadata": {},
     "outputs": [
      {
       "metadata": {},
       "output_type": "display_data",
       "png": "[encoded data removed]",
       "text": [
        "<matplotlib.figure.Figure at 0x10da587b8>"
       ]
      }
     ],
     "prompt_number": 35
    },
    {
     "cell_type": "markdown",
     "metadata": {},
     "source": [
      "generate a list of all samples that are present in the data file"
     ]
    },
    {
     "cell_type": "code",
     "collapsed": false,
     "input": [
      "G1_aligned_samples = G1_final_data['S_num'].apply(pd.Series.value_counts).fillna(0).sum()\n",
      "print('there were ' + str(G1_aligned_samples.size) + ' samples containing alignments to the amplicon')"
     ],
     "language": "python",
     "metadata": {},
     "outputs": [
      {
       "output_type": "stream",
       "stream": "stdout",
       "text": [
        "there were 62 samples containing alignments to the amplicon\n"
       ]
      }
     ],
     "prompt_number": 36
    },
    {
     "cell_type": "markdown",
     "metadata": {},
     "source": [
      "####write data to .csv file"
     ]
    },
    {
     "cell_type": "code",
     "collapsed": false,
     "input": [
      "G1_final_data.to_csv('Fig4_G1_data.csv')"
     ],
     "language": "python",
     "metadata": {},
     "outputs": [],
     "prompt_number": 37
    },
    {
     "cell_type": "markdown",
     "metadata": {},
     "source": [
      "### Figure 4E - number of insertion and deletion alleles from G1 sequencing\n",
      "####extract max. cut rate for each sample (to see whether there's detectable cutting)"
     ]
    },
    {
     "cell_type": "code",
     "collapsed": false,
     "input": [
      "G1_summary_data = G1_final_data.groupby(['name_y','S_num'],as_index=False)[['indel_rate']].max()"
     ],
     "language": "python",
     "metadata": {},
     "outputs": [],
     "prompt_number": 38
    },
    {
     "cell_type": "code",
     "collapsed": false,
     "input": [
      "G1_summary_data.to_csv('Fig4_G1_data_summary.csv')"
     ],
     "language": "python",
     "metadata": {},
     "outputs": [],
     "prompt_number": 39
    },
    {
     "cell_type": "markdown",
     "metadata": {},
     "source": [
      "####Pull out families where there's at least one point of 1% insertion or deletion \n",
      "(indicative of at least one mutant in the pool)"
     ]
    },
    {
     "cell_type": "code",
     "collapsed": false,
     "input": [
      "G1_final_data_filtered = G1_final_data[G1_final_data['indel_rate'] > .01]"
     ],
     "language": "python",
     "metadata": {},
     "outputs": [],
     "prompt_number": 40
    },
    {
     "cell_type": "code",
     "collapsed": false,
     "input": [
      "G1_final_data_mutant = G1_final_data_filtered['S_num'].apply(pd.Series.value_counts).fillna(0).sum()"
     ],
     "language": "python",
     "metadata": {},
     "outputs": [],
     "prompt_number": 41
    },
    {
     "cell_type": "code",
     "collapsed": false,
     "input": [
      "print(str(G1_final_data_mutant.size) + ' of ' + str(G1_aligned_samples.size) + ' samples contained indels indicative of a mutant')"
     ],
     "language": "python",
     "metadata": {},
     "outputs": [
      {
       "output_type": "stream",
       "stream": "stdout",
       "text": [
        "50 of 62 samples contained indels indicative of a mutant\n"
       ]
      }
     ],
     "prompt_number": 42
    },
    {
     "cell_type": "markdown",
     "metadata": {},
     "source": [
      ">this means that 50/62 families of 10 F1 individuals contained a point with a mutation frequency of > 1%"
     ]
    },
    {
     "cell_type": "markdown",
     "metadata": {},
     "source": [
      "####prepare .bam files for GATK analysis"
     ]
    },
    {
     "cell_type": "code",
     "collapsed": false,
     "input": [
      "for sample in G1_samples.iloc[0:,0]:\n",
      "    \n",
      "    picard_jar = '~/bioinfo/sw/picard-tools-1.126/picard.jar'\n",
      "    \n",
      "    current_bam = 'sequencing_data/G1/' + sample + '.sorted.bam'\n",
      "    current_rg_bam = 'sequencing_data/G1/' + sample + '.rg.bam'\n",
      "    current_rg_bam_sorted = current_rg_bam + '.sorted.bam'\n",
      "    \n",
      "    os.system('java -jar ' + picard_jar + ' AddOrReplaceReadGroups I=' + current_bam + ' O=' + current_rg_bam + ' RGPL=\"illumina\" RGPU=\"miseq07022013\" RGSM=\"' + sample + '\" RGLB=\"' + sample + '\"')\n",
      "    os.system('java -jar ' + picard_jar + ' SortSam I=' + current_rg_bam + ' O=' + current_rg_bam_sorted + ' SO=\"coordinate\"')\n",
      "    os.system('java -jar ' + picard_jar + ' BuildBamIndex I=' + current_rg_bam_sorted)\n",
      "    print('finished sample ' + sample)"
     ],
     "language": "python",
     "metadata": {},
     "outputs": [
      {
       "output_type": "stream",
       "stream": "stdout",
       "text": [
        "finished sample S1\n",
        "finished sample S2"
       ]
      },
      {
       "output_type": "stream",
       "stream": "stdout",
       "text": [
        "\n",
        "finished sample S3"
       ]
      },
      {
       "output_type": "stream",
       "stream": "stdout",
       "text": [
        "\n",
        "finished sample S4"
       ]
      },
      {
       "output_type": "stream",
       "stream": "stdout",
       "text": [
        "\n",
        "finished sample S5"
       ]
      },
      {
       "output_type": "stream",
       "stream": "stdout",
       "text": [
        "\n",
        "finished sample S6"
       ]
      },
      {
       "output_type": "stream",
       "stream": "stdout",
       "text": [
        "\n",
        "finished sample S7"
       ]
      },
      {
       "output_type": "stream",
       "stream": "stdout",
       "text": [
        "\n",
        "finished sample S8"
       ]
      },
      {
       "output_type": "stream",
       "stream": "stdout",
       "text": [
        "\n",
        "finished sample S9"
       ]
      },
      {
       "output_type": "stream",
       "stream": "stdout",
       "text": [
        "\n",
        "finished sample S10"
       ]
      },
      {
       "output_type": "stream",
       "stream": "stdout",
       "text": [
        "\n",
        "finished sample S11"
       ]
      },
      {
       "output_type": "stream",
       "stream": "stdout",
       "text": [
        "\n",
        "finished sample S12"
       ]
      },
      {
       "output_type": "stream",
       "stream": "stdout",
       "text": [
        "\n",
        "finished sample S13"
       ]
      },
      {
       "output_type": "stream",
       "stream": "stdout",
       "text": [
        "\n",
        "finished sample S14"
       ]
      },
      {
       "output_type": "stream",
       "stream": "stdout",
       "text": [
        "\n",
        "finished sample S15"
       ]
      },
      {
       "output_type": "stream",
       "stream": "stdout",
       "text": [
        "\n",
        "finished sample S16"
       ]
      },
      {
       "output_type": "stream",
       "stream": "stdout",
       "text": [
        "\n",
        "finished sample S17"
       ]
      },
      {
       "output_type": "stream",
       "stream": "stdout",
       "text": [
        "\n",
        "finished sample S18"
       ]
      },
      {
       "output_type": "stream",
       "stream": "stdout",
       "text": [
        "\n",
        "finished sample S19"
       ]
      },
      {
       "output_type": "stream",
       "stream": "stdout",
       "text": [
        "\n",
        "finished sample S20"
       ]
      },
      {
       "output_type": "stream",
       "stream": "stdout",
       "text": [
        "\n",
        "finished sample S21"
       ]
      },
      {
       "output_type": "stream",
       "stream": "stdout",
       "text": [
        "\n",
        "finished sample S22"
       ]
      },
      {
       "output_type": "stream",
       "stream": "stdout",
       "text": [
        "\n",
        "finished sample S23"
       ]
      },
      {
       "output_type": "stream",
       "stream": "stdout",
       "text": [
        "\n",
        "finished sample S24"
       ]
      },
      {
       "output_type": "stream",
       "stream": "stdout",
       "text": [
        "\n",
        "finished sample S25"
       ]
      },
      {
       "output_type": "stream",
       "stream": "stdout",
       "text": [
        "\n",
        "finished sample S26"
       ]
      },
      {
       "output_type": "stream",
       "stream": "stdout",
       "text": [
        "\n",
        "finished sample S27"
       ]
      },
      {
       "output_type": "stream",
       "stream": "stdout",
       "text": [
        "\n",
        "finished sample S28"
       ]
      },
      {
       "output_type": "stream",
       "stream": "stdout",
       "text": [
        "\n",
        "finished sample S29"
       ]
      },
      {
       "output_type": "stream",
       "stream": "stdout",
       "text": [
        "\n",
        "finished sample S30"
       ]
      },
      {
       "output_type": "stream",
       "stream": "stdout",
       "text": [
        "\n",
        "finished sample S31"
       ]
      },
      {
       "output_type": "stream",
       "stream": "stdout",
       "text": [
        "\n",
        "finished sample S32"
       ]
      },
      {
       "output_type": "stream",
       "stream": "stdout",
       "text": [
        "\n",
        "finished sample S33"
       ]
      },
      {
       "output_type": "stream",
       "stream": "stdout",
       "text": [
        "\n",
        "finished sample S34"
       ]
      },
      {
       "output_type": "stream",
       "stream": "stdout",
       "text": [
        "\n",
        "finished sample S35"
       ]
      },
      {
       "output_type": "stream",
       "stream": "stdout",
       "text": [
        "\n",
        "finished sample S36"
       ]
      },
      {
       "output_type": "stream",
       "stream": "stdout",
       "text": [
        "\n",
        "finished sample S37"
       ]
      },
      {
       "output_type": "stream",
       "stream": "stdout",
       "text": [
        "\n",
        "finished sample S38"
       ]
      },
      {
       "output_type": "stream",
       "stream": "stdout",
       "text": [
        "\n",
        "finished sample S39"
       ]
      },
      {
       "output_type": "stream",
       "stream": "stdout",
       "text": [
        "\n",
        "finished sample S40"
       ]
      },
      {
       "output_type": "stream",
       "stream": "stdout",
       "text": [
        "\n",
        "finished sample S41"
       ]
      },
      {
       "output_type": "stream",
       "stream": "stdout",
       "text": [
        "\n",
        "finished sample S42"
       ]
      },
      {
       "output_type": "stream",
       "stream": "stdout",
       "text": [
        "\n",
        "finished sample S43"
       ]
      },
      {
       "output_type": "stream",
       "stream": "stdout",
       "text": [
        "\n",
        "finished sample S44"
       ]
      },
      {
       "output_type": "stream",
       "stream": "stdout",
       "text": [
        "\n",
        "finished sample S45"
       ]
      },
      {
       "output_type": "stream",
       "stream": "stdout",
       "text": [
        "\n",
        "finished sample S46"
       ]
      },
      {
       "output_type": "stream",
       "stream": "stdout",
       "text": [
        "\n",
        "finished sample S47"
       ]
      },
      {
       "output_type": "stream",
       "stream": "stdout",
       "text": [
        "\n",
        "finished sample S48"
       ]
      },
      {
       "output_type": "stream",
       "stream": "stdout",
       "text": [
        "\n",
        "finished sample S49"
       ]
      },
      {
       "output_type": "stream",
       "stream": "stdout",
       "text": [
        "\n",
        "finished sample S50"
       ]
      },
      {
       "output_type": "stream",
       "stream": "stdout",
       "text": [
        "\n",
        "finished sample S51"
       ]
      },
      {
       "output_type": "stream",
       "stream": "stdout",
       "text": [
        "\n",
        "finished sample S52"
       ]
      },
      {
       "output_type": "stream",
       "stream": "stdout",
       "text": [
        "\n",
        "finished sample S53"
       ]
      },
      {
       "output_type": "stream",
       "stream": "stdout",
       "text": [
        "\n",
        "finished sample S54"
       ]
      },
      {
       "output_type": "stream",
       "stream": "stdout",
       "text": [
        "\n",
        "finished sample S55"
       ]
      },
      {
       "output_type": "stream",
       "stream": "stdout",
       "text": [
        "\n",
        "finished sample S56"
       ]
      },
      {
       "output_type": "stream",
       "stream": "stdout",
       "text": [
        "\n",
        "finished sample S57"
       ]
      },
      {
       "output_type": "stream",
       "stream": "stdout",
       "text": [
        "\n",
        "finished sample S58"
       ]
      },
      {
       "output_type": "stream",
       "stream": "stdout",
       "text": [
        "\n",
        "finished sample S59"
       ]
      },
      {
       "output_type": "stream",
       "stream": "stdout",
       "text": [
        "\n",
        "finished sample S60"
       ]
      },
      {
       "output_type": "stream",
       "stream": "stdout",
       "text": [
        "\n",
        "finished sample S61"
       ]
      },
      {
       "output_type": "stream",
       "stream": "stdout",
       "text": [
        "\n",
        "finished sample S62"
       ]
      },
      {
       "output_type": "stream",
       "stream": "stdout",
       "text": [
        "\n",
        "finished sample S63"
       ]
      },
      {
       "output_type": "stream",
       "stream": "stdout",
       "text": [
        "\n",
        "finished sample S64"
       ]
      },
      {
       "output_type": "stream",
       "stream": "stdout",
       "text": [
        "\n",
        "finished sample S65"
       ]
      },
      {
       "output_type": "stream",
       "stream": "stdout",
       "text": [
        "\n",
        "finished sample S66"
       ]
      },
      {
       "output_type": "stream",
       "stream": "stdout",
       "text": [
        "\n",
        "finished sample S67"
       ]
      },
      {
       "output_type": "stream",
       "stream": "stdout",
       "text": [
        "\n",
        "finished sample S68"
       ]
      },
      {
       "output_type": "stream",
       "stream": "stdout",
       "text": [
        "\n",
        "finished sample S69"
       ]
      },
      {
       "output_type": "stream",
       "stream": "stdout",
       "text": [
        "\n",
        "finished sample S70"
       ]
      },
      {
       "output_type": "stream",
       "stream": "stdout",
       "text": [
        "\n",
        "finished sample S71"
       ]
      },
      {
       "output_type": "stream",
       "stream": "stdout",
       "text": [
        "\n",
        "finished sample S72"
       ]
      },
      {
       "output_type": "stream",
       "stream": "stdout",
       "text": [
        "\n",
        "finished sample S73"
       ]
      },
      {
       "output_type": "stream",
       "stream": "stdout",
       "text": [
        "\n",
        "finished sample S74"
       ]
      },
      {
       "output_type": "stream",
       "stream": "stdout",
       "text": [
        "\n",
        "finished sample S75"
       ]
      },
      {
       "output_type": "stream",
       "stream": "stdout",
       "text": [
        "\n",
        "finished sample S76"
       ]
      },
      {
       "output_type": "stream",
       "stream": "stdout",
       "text": [
        "\n"
       ]
      }
     ],
     "prompt_number": 6
    },
    {
     "cell_type": "markdown",
     "metadata": {},
     "source": [
      "####index all .bam files and run with GATK to determine # of insertion/deletion events"
     ]
    },
    {
     "cell_type": "code",
     "collapsed": false,
     "input": [
      "for sample in samples.iloc[0:,0]:\n",
      "    current_rg_bam = 'sequencing_data/G1/' + sample + '.rg.bam.sorted.bam'\n",
      "    current_vcf = 'sequencing_data/G1/vcf_files/sample + '.vcf'\n",
      "    os.system('java -jar ~/bioinfo/sw/GATK/GenomeAnalysisTK.jar -R genome.fa -T UnifiedGenotyper -I ' + current_rg_bam + ' -o ' + current_vcf + ' --sample_ploidy 50 -dt NONE -glm GENERALPLOIDYINDEL -minIndelFrac 0.01')"
     ],
     "language": "python",
     "metadata": {},
     "outputs": [],
     "prompt_number": 53
    },
    {
     "cell_type": "markdown",
     "metadata": {},
     "source": [
      "####read VCF files and parse for indels"
     ]
    },
    {
     "cell_type": "code",
     "collapsed": false,
     "input": [
      "insertion_size = []\n",
      "deletion_size = []\n",
      "\n",
      "mutant_count = 0\n",
      "\n",
      "for sample in G1_final_data_mutant.index:\n",
      "    current_vcf = vcf.Reader(open('sequencing_data/G1/vcf_files/' + sample + '.vcf'))\n",
      "    print('========= ' + sample + ' ==========')\n",
      "    \n",
      "    for record in current_vcf:\n",
      "        print(record)\n",
      "        mutant_count = mutant_count + len(record.ALT)\n",
      "        print(record.var_subtype)\n",
      "        \n",
      "        if record.var_subtype == 'ins':\n",
      "            insertion_size.append(record)\n",
      "        \n",
      "        if record.var_subtype == 'del':\n",
      "            deletion_size.append(record)\n",
      "            \n",
      "            \n",
      "    #os.system('bcftools view ' + current_vcf + ' | grep wtrw\\t')\n",
      "    #os.system('bcftools stats ' + current_vcf + ' | grep IDD')\n",
      "    "
     ],
     "language": "python",
     "metadata": {},
     "outputs": [
      {
       "output_type": "stream",
       "stream": "stdout",
       "text": [
        "========= S10 ==========\n",
        "Record(CHROM=wtrw, POS=300, REF=G, ALT=[GGTAATAA])\n",
        "ins\n",
        "Record(CHROM=wtrw, POS=310, REF=A, ALT=[ATCCATAAC])\n",
        "ins\n",
        "Record(CHROM=wtrw, POS=316, REF=C, ALT=[CTGGGA, CT])\n",
        "unknown\n",
        "Record(CHROM=wtrw, POS=317, REF=C, ALT=[CCGAAT, CTAATT])\n",
        "unknown\n",
        "========= S11 =========="
       ]
      },
      {
       "output_type": "stream",
       "stream": "stdout",
       "text": [
        "\n",
        "Record(CHROM=wtrw, POS=292, REF=TAAACGATGGGATTTGTTAGAGAGCC, ALT=[T])\n",
        "del\n",
        "========= S13 ==========\n",
        "Record(CHROM=wtrw, POS=315, REF=GCCTA, ALT=[G, GCCCTA])\n",
        "unknown\n",
        "========= S14 ==========\n",
        "Record(CHROM=wtrw, POS=283, REF=GGCATTTCTTAAACGATGGGATTTGTTAGAGAGC, ALT=[G])\n",
        "del\n",
        "Record(CHROM=wtrw, POS=315, REF=GCCTA, ALT=[G])\n",
        "del\n",
        "========= S15 ==========\n",
        "Record(CHROM=wtrw, POS=312, REF=AGAGCCTACTG, ALT=[A])\n",
        "del\n",
        "========= S16 ==========\n",
        "Record(CHROM=wtrw, POS=316, REF=C, ALT=[CTGGAA])\n",
        "ins\n",
        "========= S17 ==========\n",
        "Record(CHROM=wtrw, POS=315, REF=GCCTA, ALT=[G, GTCTGACCTA])\n",
        "unknown\n",
        "Record(CHROM=wtrw, POS=317, REF=C, ALT=[CCGAAT, CTAATT])\n",
        "unknown\n",
        "========= S18 ==========\n",
        "Record(CHROM=wtrw, POS=315, REF=GCCTA, ALT=[G])\n",
        "del\n",
        "Record(CHROM=wtrw, POS=317, REF=C, ALT=[CATCCAGTGGA, CTTCCACTGGA])\n",
        "unknown\n",
        "========= S20 ==========\n",
        "Record(CHROM=wtrw, POS=316, REF=C, ALT=[CTTTTCA, CTGTTTA])\n",
        "unknown\n",
        "========= S21 ==========\n",
        "Record(CHROM=wtrw, POS=292, REF=TAAACGATGGGATTTGTTAGAGAGCC, ALT=[T])\n",
        "del\n",
        "Record(CHROM=wtrw, POS=315, REF=GCCTA, ALT=[G, GTCTGACCTA])\n",
        "unknown\n",
        "Record(CHROM=wtrw, POS=317, REF=C, ALT=[CATCCAGTGGA, CTTCCACTGGA])\n",
        "unknown\n",
        "========= S22 ==========\n",
        "Record(CHROM=wtrw, POS=283, REF=GGCATTTCTTAAACGATGGGATTTGTTAGAGAGC, ALT=[G])\n",
        "del\n",
        "Record(CHROM=wtrw, POS=315, REF=GCCTA, ALT=[G])\n",
        "del\n",
        "========= S23 ==========\n",
        "Record(CHROM=wtrw, POS=315, REF=GCCTA, ALT=[G])\n",
        "del\n",
        "Record(CHROM=wtrw, POS=317, REF=C, ALT=[CATCAACTGGA])\n",
        "ins\n",
        "========= S24 ==========\n",
        "Record(CHROM=wtrw, POS=315, REF=GCCTA, ALT=[G, GTCTGACCTA])\n",
        "unknown\n",
        "Record(CHROM=wtrw, POS=317, REF=C, ALT=[CA, CCGAAT])\n",
        "unknown\n",
        "========= S25 ==========\n",
        "Record(CHROM=wtrw, POS=315, REF=G, ALT=[GC])\n",
        "ins\n",
        "========= S26 ==========\n",
        "Record(CHROM=wtrw, POS=315, REF=GCCTA, ALT=[G, GCCCTA])\n",
        "unknown\n",
        "Record(CHROM=wtrw, POS=316, REF=C, ALT=[CTGGAAT])\n",
        "ins\n",
        "========= S27 ==========\n",
        "Record(CHROM=wtrw, POS=316, REF=C, ALT=[CTGGAAT])\n",
        "ins\n",
        "Record(CHROM=wtrw, POS=317, REF=C, ALT=[CATCCACTGGG])\n",
        "ins\n",
        "========= S28 ==========\n",
        "Record(CHROM=wtrw, POS=312, REF=AGAGCCTACTG, ALT=[A])\n",
        "del\n",
        "Record(CHROM=wtrw, POS=315, REF=GCCTACTGGAA, ALT=[GCTGGAA, G, GCCCTACTGGAA])\n",
        "unknown\n",
        "Record(CHROM=wtrw, POS=316, REF=C, ALT=[CTGGAAT])\n",
        "ins\n",
        "========= S29 =========="
       ]
      },
      {
       "output_type": "stream",
       "stream": "stdout",
       "text": [
        "\n",
        "Record(CHROM=wtrw, POS=283, REF=GGCATTTCTTAAACGATGGGATTTGTTAGAGAGC, ALT=[G])\n",
        "del\n",
        "Record(CHROM=wtrw, POS=316, REF=C, ALT=[CTGGAA])\n",
        "ins\n",
        "========= S3 ==========\n",
        "Record(CHROM=wtrw, POS=312, REF=AGAGCCTACTG, ALT=[A])\n",
        "del\n",
        "========= S30 ==========\n",
        "Record(CHROM=wtrw, POS=315, REF=GCCTA, ALT=[G])\n",
        "del\n",
        "========= S31 ==========\n",
        "Record(CHROM=wtrw, POS=315, REF=GCCTA, ALT=[G, GTCTGACCTA])\n",
        "unknown\n",
        "Record(CHROM=wtrw, POS=317, REF=C, ALT=[CTGAAG])\n",
        "ins\n",
        "========= S32 ==========\n",
        "Record(CHROM=wtrw, POS=315, REF=G, ALT=[GC])\n",
        "ins\n",
        "========= S33 ==========\n",
        "Record(CHROM=wtrw, POS=315, REF=GCCTA, ALT=[G])\n",
        "del\n",
        "========= S37 ==========\n",
        "Record(CHROM=wtrw, POS=315, REF=GCCTA, ALT=[G])\n",
        "del\n",
        "========= S38 ==========\n",
        "Record(CHROM=wtrw, POS=316, REF=C, ALT=[CTGGAAT])\n",
        "ins\n",
        "========= S4 ==========\n",
        "Record(CHROM=wtrw, POS=283, REF=GGCATTTCTTAAACGATGGGATTTGTTAGAGAGC, ALT=[G])\n",
        "del\n",
        "Record(CHROM=wtrw, POS=315, REF=GCCTA, ALT=[G])\n",
        "del\n",
        "========= S40 ==========\n",
        "Record(CHROM=wtrw, POS=316, REF=C, ALT=[CTGGAAT])\n",
        "ins\n",
        "========= S41 ==========\n",
        "Record(CHROM=wtrw, POS=316, REF=C, ALT=[CAATTCGGCA])\n",
        "ins\n",
        "========= S42 ==========\n",
        "Record(CHROM=wtrw, POS=315, REF=GCCTA, ALT=[G, GTCTGACCTA])\n",
        "unknown\n",
        "Record(CHROM=wtrw, POS=317, REF=C, ALT=[CCGAAT, CTAATT])\n",
        "unknown\n",
        "========= S43 ==========\n",
        "Record(CHROM=wtrw, POS=312, REF=AGAGCCTACTG, ALT=[A])\n",
        "del\n",
        "Record(CHROM=wtrw, POS=317, REF=C, ALT=[CCGAAT, CTAATT])\n",
        "unknown\n",
        "========= S44 ==========\n",
        "Record(CHROM=wtrw, POS=316, REF=C, ALT=[CTGGAAT])\n",
        "ins\n",
        "========= S45 ==========\n",
        "Record(CHROM=wtrw, POS=315, REF=G, ALT=[GTCTGA, GC])\n",
        "unknown\n",
        "Record(CHROM=wtrw, POS=316, REF=C, ALT=[CTGGAAT])\n",
        "ins\n",
        "Record(CHROM=wtrw, POS=317, REF=C, ALT=[CCGAAT, CG])\n",
        "unknown\n",
        "========= S46 ==========\n",
        "Record(CHROM=wtrw, POS=316, REF=C, ALT=[CTGGAAT])\n",
        "ins\n",
        "Record(CHROM=wtrw, POS=317, REF=C, ALT=[CGGAAT])\n",
        "ins\n",
        "========= S48 ==========\n",
        "Record(CHROM=wtrw, POS=317, REF=C, ALT=[CTGAAG])\n",
        "ins\n",
        "========= S49 ==========\n",
        "Record(CHROM=wtrw, POS=300, REF=G, ALT=[GGTAATAA])\n",
        "ins\n",
        "Record(CHROM=wtrw, POS=310, REF=A, ALT=[ATCCATAAC])\n",
        "ins\n",
        "========= S5 ==========\n",
        "Record(CHROM=wtrw, POS=312, REF=AGAGCCTACTG, ALT=[A])\n",
        "del\n",
        "Record(CHROM=wtrw, POS=317, REF=C, ALT=[CTGAAT])\n",
        "ins\n",
        "========= S50 ==========\n",
        "Record(CHROM=wtrw, POS=315, REF=GCCTA, ALT=[G, GTCTGACCTA])\n",
        "unknown\n",
        "Record(CHROM=wtrw, POS=317, REF=C, ALT=[CCGAAT, CTAATT])\n",
        "unknown\n",
        "========= S54 ==========\n",
        "Record(CHROM=wtrw, POS=312, REF=AGAGCCTACTG, ALT=[A])\n",
        "del\n",
        "Record(CHROM=wtrw, POS=316, REF=C, ALT=[CTGGAAT])\n",
        "ins\n",
        "========= S55 ==========\n",
        "Record(CHROM=wtrw, POS=315, REF=G, ALT=[GC])"
       ]
      },
      {
       "output_type": "stream",
       "stream": "stdout",
       "text": [
        "\n",
        "ins\n",
        "========= S56 ==========\n",
        "Record(CHROM=wtrw, POS=316, REF=C, ALT=[CATTTCTTAAACGATGGTAATAAGGATCCATAACCAAAGG])\n",
        "ins\n",
        "========= S58 ==========\n",
        "Record(CHROM=wtrw, POS=312, REF=AGAGCCTACTG, ALT=[A])\n",
        "del\n",
        "========= S6 ==========\n",
        "Record(CHROM=wtrw, POS=315, REF=G, ALT=[GC, GATGTTC])\n",
        "unknown\n",
        "Record(CHROM=wtrw, POS=316, REF=C, ALT=[CTGTTCT, CTGTTTA])\n",
        "unknown\n",
        "========= S69 ==========\n",
        "Record(CHROM=wtrw, POS=315, REF=GCCTA, ALT=[G, GCCCTA])\n",
        "unknown\n",
        "========= S7 ==========\n",
        "Record(CHROM=wtrw, POS=315, REF=GCCTA, ALT=[G])\n",
        "del\n",
        "========= S70 ==========\n",
        "Record(CHROM=wtrw, POS=317, REF=C, ALT=[CCGAAT])\n",
        "ins\n",
        "========= S71 ==========\n",
        "Record(CHROM=wtrw, POS=315, REF=GCCTA, ALT=[G, GCCCTA])\n",
        "unknown\n",
        "========= S74 ==========\n",
        "Record(CHROM=wtrw, POS=313, REF=GAGCC, ALT=[GAGACTGGCCGATATGAACGATGGTAATAAGGCTCCATAACCTAAGCC, GAGACTGGCCGATATGAACGATGGTATTAAGGATCCATAACCTAAGCC, GAGACTGGCCGATATTAACGATGGTAATAAGGATCCATAACCTAAGCC])\n",
        "unknown\n",
        "Record(CHROM=wtrw, POS=315, REF=G, ALT=[GC, GTATGA])\n",
        "unknown\n",
        "Record(CHROM=wtrw, POS=316, REF=C, ALT=[CTGGCA])\n",
        "ins\n",
        "Record(CHROM=wtrw, POS=317, REF=C, ALT=[CTGAAT])\n",
        "ins\n",
        "========= S76 ==========\n",
        "Record(CHROM=wtrw, POS=315, REF=GCCTA, ALT=[G, GTCTGACCTA])\n",
        "unknown\n",
        "Record(CHROM=wtrw, POS=317, REF=C, ALT=[CTGAAG, CTAAAT])\n",
        "unknown\n",
        "========= S8 ==========\n",
        "Record(CHROM=wtrw, POS=314, REF=A, ALT=[AATTTTACTT, AATGTCACTT])\n",
        "unknown\n",
        "Record(CHROM=wtrw, POS=315, REF=G, ALT=[GTGTTACTTT, GC])\n",
        "unknown\n",
        "========= S9 ==========\n",
        "Record(CHROM=wtrw, POS=312, REF=AGAGCCTACTG, ALT=[A])\n",
        "del\n"
       ]
      }
     ],
     "prompt_number": 43
    },
    {
     "cell_type": "code",
     "collapsed": false,
     "input": [
      "print('there are ' + str(mutant_count) + ' alternate alleles called from '\n",
      "      + str(len(G1_final_data_mutant.index)) + ' of ' + str(G1_aligned_samples.size) + ' mutant families examined')"
     ],
     "language": "python",
     "metadata": {},
     "outputs": [
      {
       "output_type": "stream",
       "stream": "stdout",
       "text": [
        "there are 116 alternate alleles called from 50 of 62 mutant families examined\n"
       ]
      }
     ],
     "prompt_number": 44
    },
    {
     "cell_type": "markdown",
     "metadata": {},
     "source": [
      "#### raw results = 116 alternate indel alleles called by GATK"
     ]
    }
   ],
   "metadata": {}
  }
 ]
}