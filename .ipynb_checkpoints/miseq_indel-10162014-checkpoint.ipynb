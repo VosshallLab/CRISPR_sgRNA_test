{
 "metadata": {
  "name": "",
<<<<<<< HEAD:miseq_indel.ipynb
  "signature": "sha256:96e95653d185e41c86e2fac397733908fbf5fc90e775dbb55f514384068effe1"
=======
  "signature": "sha256:215d68599c58bfc20e84a3780c4ba53de95b2e345a39362d8f4c07eae0ac32ea"
>>>>>>> bnmtthws/master:.ipynb_checkpoints/miseq_indel-10162014-checkpoint.ipynb
 },
 "nbformat": 3,
 "nbformat_minor": 0,
 "worksheets": [
  {
   "cells": [
    {
     "cell_type": "heading",
     "level": 1,
     "metadata": {},
     "source": [
      "Analysis of indel rates in deep-sequencing PCR amplicons"
     ]
    },
    {
     "cell_type": "markdown",
     "metadata": {},
     "source": [
      "script to align deep sequencing reads and detect indels caused by ZFN/TALEN/CRISPR<br>\n",
      "ben matthews 11/2014<br>\n",
      "bmatthews@rockefeller.edu<br>\n",
      "[http://github.com/bnmtthws/crispr_indel/](github)\n",
      "\n",
      "---\n",
      "software requirements and *tested versions*:<br>\n",
<<<<<<< HEAD:miseq_indel.ipynb
      "1. gmap/gsnap [http://research-pub.gene.com/gmap/] *version 10-22-2014*<br>\n",
=======
      "1. gmap/gsnap [http://research-pub.gene.com/gmap/] *version 10-09-2014*<br>\n",
>>>>>>> bnmtthws/master:.ipynb_checkpoints/miseq_indel-10162014-checkpoint.ipynb
      "2. pysam [https://github.com/pysam-developers/pysam] *version 0.8.0*<br>\n",
      "3. samtools/htslib [http://www.htslib.org] *version 1.1*<br>\n",
      "  \n",
      "python package requirements:<br>\n",
<<<<<<< HEAD:miseq_indel.ipynb
      "1. pysamstats [https://github.com/alimanfoo/pysamstats] *version 0.19*<br>\n",
=======
      "1. pysamstats [https://github.com/alimanfoo/pysamstats] *version 0.16*<br>\n",
      "2. seaborn [http://web.stanford.edu/~mwaskom/software/seaborn/] *version 0.4.0*<br>\n",
>>>>>>> bnmtthws/master:.ipynb_checkpoints/miseq_indel-10162014-checkpoint.ipynb
      "  \n",
      "---\n",
      "input:\n",
      "1. fastq/ - a directory of .fastq files with numbered samples denoted by *SX*.fastq (the default output from an Illumina MiSeq instrument)\n",
      "2. genome.fa - a fasta file to serve as a 'genome' for the gapped alignments\n",
      "\n",
      "output:\n",
      "1. sorted .bam files for each sample\n",
<<<<<<< HEAD:miseq_indel.ipynb
      "2. *.variant.stats file summarizing indel/SNP rates for each sample"
=======
      "2. .variant.stats file summarizing indel/SNP rates for each sample\n",
      "3. coming soon: figure output\n",
      "\n",
      "input:\n",
      "1. directory of .fastq files with numbered samples denoted by *SX*.fastq (the default output from an Illumina MiSeq instrument)\n",
      "2. fasta file to serve as a 'genome' for the gapped alignments"
>>>>>>> bnmtthws/master:.ipynb_checkpoints/miseq_indel-10162014-checkpoint.ipynb
     ]
    },
    {
     "cell_type": "code",
     "collapsed": false,
     "input": [
      "# import our libraries\n",
      "import sys,re,csv,glob,os,pysam,seaborn"
     ],
     "language": "python",
     "metadata": {},
     "outputs": []
    },
    {
     "cell_type": "heading",
     "level": 3,
     "metadata": {},
     "source": [
<<<<<<< HEAD:miseq_indel.ipynb
      "set our working directory"
     ]
    },
    {
     "cell_type": "code",
     "collapsed": false,
     "input": [
      "!cd test_data\n",
      "!ls"
     ],
     "language": "python",
     "metadata": {},
     "outputs": [
      {
       "output_type": "stream",
       "stream": "stdout",
       "text": [
        "LICENSE           README.md         miseq_indel.ipynb \u001b[34mtest_data\u001b[m\u001b[m\r\n"
       ]
      }
     ],
     "prompt_number": 10
    },
    {
     "cell_type": "heading",
     "level": 3,
     "metadata": {},
     "source": [
      "generate gmap database"
=======
      "change to working directory for this experiment"
>>>>>>> bnmtthws/master:.ipynb_checkpoints/miseq_indel-10162014-checkpoint.ipynb
     ]
    },
    {
     "cell_type": "code",
     "collapsed": false,
     "input": [
<<<<<<< HEAD:miseq_indel.ipynb
      "!gmap_build -D miseq -d miseq genome.fa"
     ],
     "language": "python",
     "metadata": {},
     "outputs": [
      {
       "output_type": "stream",
       "stream": "stdout",
       "text": [
        "-k flag not specified, so building with default 15-mers\r\n",
        "Destination directory not defined with -D flag, so writing to /usr/local/share\r\n",
        "Sorting chromosomes in chrom order.  To turn off or sort other ways, use the -s flag.\r\n",
        "Checking compiler assumptions for popcnt: 000041A7 __builtin_clz=17 __builtin_ctz=0 _mm_popcnt_u32=7 __builtin_popcount=7 \r\n",
        "Checking compiler assumptions for SSE2: 000041A7 10D63AF1 xor=10D67B56\r\n",
        "Checking compiler assumptions for SSE4.1: -89 -15 max=241 => compiler zero extends\r\n",
        "Creating files in directory /usr/local/share/miseq\r\n"
       ]
      },
      {
       "output_type": "stream",
       "stream": "stdout",
       "text": [
        "Running /usr/local/bin/fa_coords    -o /usr/local/share/miseq.coords -f /usr/local/share/miseq.sources\r\n"
       ]
      },
      {
       "output_type": "stream",
       "stream": "stdout",
       "text": [
        "Opening file genome.fa\r\n",
        "Can't open file genome.fa at /usr/local/bin/fa_coords line 209.\r\n",
        "/usr/local/bin/fa_coords    -o /usr/local/share/miseq.coords -f /usr/local/share/miseq.sources failed with return code 512 at /usr/local/bin/gmap_build line 245.\r\n"
       ]
      }
     ],
     "prompt_number": 7
=======
      "%cd '/Volumes/BenPassport/miseq20141016/'"
     ],
     "language": "python",
     "metadata": {},
     "outputs": []
    },
    {
     "cell_type": "heading",
     "level": 3,
     "metadata": {},
     "source": [
      "generate gmap database"
     ]
    },
    {
     "cell_type": "code",
     "collapsed": false,
     "input": [
      "!gmap_build -D '.' -d miseq20141016 genome20141016.fa"
     ],
     "language": "python",
     "metadata": {},
     "outputs": []
    },
    {
     "cell_type": "markdown",
     "metadata": {},
     "source": [
      "####cycle through each sample, align to genome with gmap and check for variants with pysamstats"
     ]
>>>>>>> bnmtthws/master:.ipynb_checkpoints/miseq_indel-10162014-checkpoint.ipynb
    },
    {
     "cell_type": "code",
     "collapsed": false,
     "input": [
      "lanes=[]\n",
      "for i in range(55):\n",
      "    lanes.append(\"S\"+str(i))\n",
      "\n",
      "# the first argument to the script is a directory that contains all of the .fq files\n",
      "readfiles = 'fastq';\n",
<<<<<<< HEAD:miseq_indel.ipynb
=======
      "genome_fa = 'genome20141016.fa';\n",
>>>>>>> bnmtthws/master:.ipynb_checkpoints/miseq_indel-10162014-checkpoint.ipynb
      "\n",
      "# cycle through each of the samples\n",
      "for lane in lanes:\n",
      "    \n",
      "    # this will be the file name of the bam file created\n",
      "    bamFile= '.'.join([lane,'sorted.bam']);\n",
      "    \n",
      "    # this finds all of the .fastq files associated with the sample number\n",
      "    reads = glob.glob(readfiles + '/*' + lane + '_*.fastq')\n",
<<<<<<< HEAD:miseq_indel.ipynb
=======
      "      \n",
      "    # first, let's align the reads with gsnap - set to allow indels of +/- 250bp\n",
      "    # http://research-pub.gene.com/gmap/\n",
>>>>>>> bnmtthws/master:.ipynb_checkpoints/miseq_indel-10162014-checkpoint.ipynb
      "    \n",
      "    print(['running lane' + lane])\n",
      "    \n",
      "    # gsnap alignment\n",
      "    # change the -d argument to match a gmap database that you've built with gmap_build\n",
      "    \n",
      "    os.system('gsnap -t 8 -B 4 -y 250 -z 250 -A sam -D \\'.\\' -d miseq20141016 --input-buffer-size 10000 --sam-multiple-primaries ' + \" \".join(reads) + ' > ' + lane + '.sam')\n",
      "    \n",
      "    # convert from .sam file to .bam file\n",
      "    os.system('samtools view -b -S ' + lane + '.sam > ' + lane + '.bam')\n",
      "    \n",
      "    # sort .bam file\n",
      "    os.system('samtools sort ' + lane + '.bam ' + lane + '.sorted')\n",
      "    \n",
      "    # index bam file\n",
      "    os.system('samtools index ' + bamFile)\n",
      "    \n",
<<<<<<< HEAD:miseq_indel.ipynb
      "    # remove temporary .sam and .bam files\n",
      "    os.system('rm ' + lane + '.sam')\n",
      "    os.system('rm ' + lane + '.bam')\n",
      "    \n",
=======
      "    # remove unsorted .bam and .sam files\n",
      "    os.system('rm ' + lane + '.sam')\n",
      "    os.system('rm ' + lane + '.bam')\n",
      "        \n",
>>>>>>> bnmtthws/master:.ipynb_checkpoints/miseq_indel-10162014-checkpoint.ipynb
      "    # use pysamstats to count the number of reads at each bp that have aligned with an insertion or deletion\n",
      "    # change the --fasta argument to match the fasta file used to create the gmap database\n",
      "    os.system('pysamstats --type variation -D 10000000 ' + lane + '.sorted.bam --fasta ' + genome_fa + ' > ' + lane + '.variant.stats')\n"
     ],
     "language": "python",
     "metadata": {},
     "outputs": []
    },
    {
     "cell_type": "code",
     "collapsed": false,
     "input": [],
     "language": "python",
     "metadata": {},
     "outputs": []
    },
    {
     "cell_type": "code",
     "collapsed": false,
     "input": [],
     "language": "python",
     "metadata": {},
     "outputs": []
    }
   ],
   "metadata": {}
  }
 ]
}