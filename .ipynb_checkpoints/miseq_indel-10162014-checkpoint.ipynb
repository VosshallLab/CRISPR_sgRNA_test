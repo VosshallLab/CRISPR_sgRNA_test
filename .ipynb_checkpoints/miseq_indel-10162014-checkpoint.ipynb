{
 "metadata": {
  "name": "",
  "signature": "sha256:de6caad422cc390e9a29ab314c95e52ebe5fbf7147f9a4d7dd295d09d7867094"
 },
 "nbformat": 3,
 "nbformat_minor": 0,
 "worksheets": [
  {
   "cells": [
    {
     "cell_type": "heading",
     "level": 1,
     "metadata": {},
     "source": [
      "Analysis of indel rates in deep-sequencing PCR amplicons"
     ]
    },
    {
     "cell_type": "markdown",
     "metadata": {},
     "source": [
      "script to align deep sequencing reads and detect indels caused by ZFN/TALEN/CRISPR<br>\n",
      "ben matthews 08/2014<br>\n",
      "bmatthews@rockefeller.edu<br>\n",
      "[http://github.com/bnmtthws/crispr_indel/](github)\n",
      "\n",
      "---\n",
      "software requirements and *tested versions*:<br>\n",
      "1. gmap/gsnap [http://research-pub.gene.com/gmap/] *version 10-09-2014*<br>\n",
      "2. pysam [https://github.com/pysam-developers/pysam] *version 0.8.0*<br>\n",
      "3. samtools/htslib [http://www.htslib.org] *version 1.1*<br>\n",
      "  \n",
      "python package requirements:<br>\n",
      "1. pysamstats [https://github.com/alimanfoo/pysamstats] *version 0.16*<br>\n",
      "2. seaborn [http://web.stanford.edu/~mwaskom/software/seaborn/] *version 0.4.0*<br>\n",
      "  \n",
      "---\n",
      "output:\n",
      "1. sorted .bam files for each sample\n",
      "2. .variant.stats file summarizing indel/SNP rates for each sample\n",
      "3. coming soon: figure output\n",
      "\n",
      "input:\n",
      "1. directory of .fastq files with numbered samples denoted by *SX*.fastq (the default output from an Illumina MiSeq instrument)\n",
      "2. fasta file to serve as a 'genome' for the gapped alignments"
     ]
    },
    {
     "cell_type": "code",
     "collapsed": false,
     "input": [
      "# import our libraries\n",
      "import sys,re,csv,glob,os,pysam,seaborn"
     ],
     "language": "python",
     "metadata": {},
     "outputs": [],
     "prompt_number": 1
    },
    {
     "cell_type": "heading",
     "level": 3,
     "metadata": {},
     "source": [
      "change to working directory for this experiment"
     ]
    },
    {
     "cell_type": "code",
     "collapsed": false,
     "input": [
      "%cd '/Users/ben/bioinfo/miseq/miseq20141016/'"
     ],
     "language": "python",
     "metadata": {},
     "outputs": [
      {
       "output_type": "stream",
       "stream": "stdout",
       "text": [
        "/Users/ben/bioinfo/miseq/miseq20141016\n"
       ]
      }
     ],
     "prompt_number": 3
    },
    {
     "cell_type": "heading",
     "level": 3,
     "metadata": {},
     "source": [
      "generate gmap database"
     ]
    },
    {
     "cell_type": "code",
     "collapsed": false,
     "input": [
      "!gmap_build -D '.' -d miseq20141016 genome20141016.fa"
     ],
     "language": "python",
     "metadata": {},
     "outputs": [
      {
       "output_type": "stream",
       "stream": "stdout",
       "text": [
        "-k flag not specified, so building with default 15-mers\r\n",
        "Sorting chromosomes in chrom order.  To turn off or sort other ways, use the -s flag.\r\n"
       ]
      },
      {
       "output_type": "stream",
       "stream": "stdout",
       "text": [
        "Checking compiler assumptions for popcnt: 000041A7 __builtin_clz=17 __builtin_ctz=0 _mm_popcnt_u32=7 __builtin_popcount=7 \r\n",
        "Checking compiler assumptions for SSE2: 000041A7 10D63AF1 xor=10D67B56\r\n",
        "Checking compiler assumptions for SSE4.1: -89 -15 max=241 => compiler zero extends\r\n",
        "Creating files in directory ./miseq20141016\r\n"
       ]
      },
      {
       "output_type": "stream",
       "stream": "stdout",
       "text": [
        "Running /usr/local/bin/fa_coords    -o ./miseq20141016.coords -f ./miseq20141016.sources\r\n",
        "Opening file genome20141016.fa\r\n"
       ]
      },
      {
       "output_type": "stream",
       "stream": "stdout",
       "text": [
        "  Processed short contigs (<1000000 nt): ........\r\n",
        "============================================================\r\n",
        "Contig mapping information has been written to file ./miseq20141016.coords.\r\n",
        "You should look at this file, and edit it if necessary\r\n",
        "If everything is okay, you should proceed by running\r\n",
        "    make gmapdb\r\n",
        "============================================================\r\n"
       ]
      },
      {
       "output_type": "stream",
       "stream": "stdout",
       "text": [
        "Running /usr/local/bin/gmap_process  -c ./miseq20141016.coords -f ./miseq20141016.sources | /usr/local/bin/gmapindex  -d miseq20141016 -D ./miseq20141016 -A \r\n",
        "Reading coordinates from file ./miseq20141016.coords\r\n",
        "Logging contig OR4 at OR4:1..3253 in genome miseq20141016\r\n",
        "Logging contig elav at elav:1..2916 in genome miseq20141016\r\n",
        "Logging contig npylr7 at npylr7:1..2322 in genome miseq20141016\r\n",
        "Logging contig buck_scaffold197 at buck_scaffold197:1..6148 in genome miseq20141016\r\n",
        "Logging contig buck_scaffold520 at buck_scaffold520:1..6127 in genome miseq20141016\r\n",
        "Logging contig buck_scaffold50 at buck_scaffold50:1..6140 in genome miseq20141016\r\n",
        "Logging contig seeholzer_fru at seeholzer_fru:1..1279 in genome miseq20141016\r\n",
        "Logging contig seeholzer_w at seeholzer_w:1..731 in genome miseq20141016\r\n",
        "Total genomic length = 28916 bp\r\n",
        "Chromosome OR4 has universal coordinates 1..3253\r\n",
        "Chromosome buck_scaffold197 has universal coordinates 3254..9401\r\n",
        "Chromosome buck_scaffold50 has universal coordinates 9402..15541\r\n",
        "Chromosome buck_scaffold520 has universal coordinates 15542..21668\r\n",
        "Chromosome elav has universal coordinates 21669..24584\r\n",
        "Chromosome npylr7 has universal coordinates 24585..26906\r\n",
        "Chromosome seeholzer_fru has universal coordinates 26907..28185\r\n",
        "Chromosome seeholzer_w has universal coordinates 28186..28916\r\n",
        "Writing IIT file header information...coordinates require 4 bytes each...done\r\n",
        "Processing null division/chromosome...sorting...writing...done (8 intervals)\r\n",
        "Writing IIT file footer information...done\r\n",
        "Writing IIT file header information...coordinates require 4 bytes each...done\r\n",
        "Processing null division/chromosome...sorting...writing...done (8 intervals)\r\n",
        "Writing IIT file footer information...done\r\n"
       ]
      },
      {
       "output_type": "stream",
       "stream": "stdout",
       "text": [
        "Running /usr/local/bin/gmap_process  -c ./miseq20141016.coords -f ./miseq20141016.sources | /usr/local/bin/gmapindex  -d miseq20141016 -F ./miseq20141016 -D ./miseq20141016 -G\r\n",
        "Genome length is 28916 nt\r\n",
        "Trying to allocate 2712*4 bytes of memory...succeeded.  Building genome in memory.\r\n"
       ]
      },
      {
       "output_type": "stream",
       "stream": "stdout",
       "text": [
        "Reading coordinates from file ./miseq20141016.coords\r\n",
        "Writing contig OR4 to universal coordinates 1..3253 in genome miseq20141016\r\n",
        "Writing contig elav to universal coordinates 21669..24584 in genome miseq20141016\r\n",
        "Writing contig npylr7 to universal coordinates 24585..26906 in genome miseq20141016\r\n",
        "Writing contig buck_scaffold197 to universal coordinates 3254..9401 in genome miseq20141016\r\n",
        "Writing contig buck_scaffold520 to universal coordinates 15542..21668 in genome miseq20141016\r\n",
        "Writing contig buck_scaffold50 to universal coordinates 9402..15541 in genome miseq20141016\r\n",
        "Writing contig seeholzer_fru to universal coordinates 26907..28185 in genome miseq20141016\r\n",
        "Writing contig seeholzer_w to universal coordinates 28186..28916 in genome miseq20141016\r\n",
        "A total of 0 non-ACGTNX characters were seen in the genome.\r\n"
       ]
      },
      {
       "output_type": "stream",
       "stream": "stdout",
       "text": [
        "Running cat ./miseq20141016/miseq20141016.genomecomp | /usr/local/bin/gmapindex -d miseq20141016 -U > ./miseq20141016/miseq20141016.genomebits128\r\n"
       ]
      },
      {
       "output_type": "stream",
       "stream": "stdout",
       "text": [
        "Running cat ./miseq20141016/miseq20141016.genomecomp | /usr/local/bin/gmapindex -k 15 -q 3  -d miseq20141016 -F ./miseq20141016 -D ./miseq20141016 -N\r\n",
        "Counting positions in genome miseq20141016 (15 bp every 3 bp), position 0\r\n",
        "Number of offsets: 9604 => pages file not required\r\n"
       ]
      },
      {
       "output_type": "stream",
       "stream": "stdout",
       "text": [
        "Running cat ./miseq20141016/miseq20141016.genomecomp | /usr/local/bin/gmapindex -k 15 -q 3  -d miseq20141016 -F ./miseq20141016 -D ./miseq20141016 -O \r\n",
        "Offset compression types: bitpack64\r\n",
        "Allocating 1073741825*4 bytes for offsets\r\n",
        "Indexing offsets of oligomers in genome miseq20141016 (15 bp every 3 bp), position 0\r\n"
       ]
      },
      {
       "output_type": "stream",
       "stream": "stdout",
       "text": [
        "Writing 1073741825 offsets compressed via bitpack64 to file with total of 9604 k-mers..."
       ]
      },
      {
       "output_type": "stream",
       "stream": "stdout",
       "text": [
        "Checking bitpack..."
       ]
      },
      {
       "output_type": "stream",
       "stream": "stdout",
       "text": [
        "done\r\n"
       ]
      },
      {
       "output_type": "stream",
       "stream": "stdout",
       "text": [
        "Running cat ./miseq20141016/miseq20141016.genomecomp | /usr/local/bin/gmapindex -k 15 -q 3  -d miseq20141016 -F ./miseq20141016 -D ./miseq20141016 -P\r\n"
       ]
      },
      {
       "output_type": "stream",
       "stream": "stdout",
       "text": [
        "Looking for index files in directory ./miseq20141016\r\n",
        "  Pointers file is miseq20141016.ref153offsets64meta\r\n",
        "  Offsets file is miseq20141016.ref153offsets64strm\r\n",
        "  Positions file is miseq20141016.ref153positions\r\n",
        "Allocating memory (1073741825 4-byte words) for offsets, kmer 15...done\r\n",
        "Expanding offsetsstrm into offsets..."
       ]
      },
      {
       "output_type": "stream",
       "stream": "stdout",
       "text": [
        "done\r\n",
        "Trying to allocate 9604*4 bytes of memory for positions...succeeded.  Building positions in memory.\r\n",
        "Indexing positions of oligomers in genome miseq20141016 (15 bp every 3 bp), position 0\r\n",
        "Writing 9604 genomic positions to file ./miseq20141016/miseq20141016.ref153positions ...\r\n"
       ]
      },
      {
       "output_type": "stream",
       "stream": "stdout",
       "text": [
        "Running /usr/local/bin/gmapindex -d miseq20141016 -F ./miseq20141016 -D ./miseq20141016 -S\r\n",
        "Building suffix array\r\n",
        "SACA_K called with n = 28917, K = 5, level 0\r\n",
        "SACA_K called with n = 8339, K = 0, level 1\r\n",
        "SACA_K called with n = 2633, K = 0, level 2\r\n"
       ]
      },
      {
       "output_type": "stream",
       "stream": "stdout",
       "text": [
        "For indexsize 12, occupied 28806/16777216\r\n",
        "Optimal indexsize = 12\r\n"
       ]
      },
      {
       "output_type": "stream",
       "stream": "stdout",
       "text": [
        "Running /usr/local/bin/gmapindex -d miseq20141016 -F ./miseq20141016 -D ./miseq20141016 -L\r\n",
        "Building LCP array\r\n",
        "Writing temporary file for rank...done\r\n",
        "Writing temporary file for permuted sarray...done\r\n",
        "Byte-coding: 28917 values < 255, 0 exceptions >= 255 (0.0%)\r\n",
        "Building DC array\r\n",
        "Building child array\r\n"
       ]
      },
      {
       "output_type": "stream",
       "stream": "stdout",
       "text": [
        "Byte-coding: 28824 values < 255, 93 exceptions >= 255 (0.3%)\r\n",
        "Writing bytes file...done\r\n"
       ]
      }
     ],
     "prompt_number": 5
    },
    {
     "cell_type": "code",
     "collapsed": false,
     "input": [
      "lanes=[]\n",
      "for i in range(51):\n",
      "    lanes.append(\"S\"+str(i+1))\n",
      "\n",
      "# the first argument to the script is a directory that contains all of the .fq files\n",
      "readfiles = 'fastq';\n",
      "\n",
      "# cycle through each of the samples\n",
      "for lane in lanes:\n",
      "    \n",
      "    # this will be the file name of the bam file created\n",
      "    bamFile= '.'.join([lane,'sorted.bam']);\n",
      "    \n",
      "    # this finds all of the .fastq files associated with the sample number\n",
      "    reads = glob.glob(readfiles + '/*' + lane + '_*.fastq')\n",
      "      \n",
      "    # first, let's align the reads with gsnap - set to allow indels of +/- 250bp\n",
      "    # http://research-pub.gene.com/gmap/\n",
      "    \n",
      "    print(['running lane' + lane])\n",
      "    \n",
      "    # gsnap alignment\n",
      "    # change the -d argument to match a gmap database that you've built with gmap_build\n",
      "    \n",
      "    os.system('gsnap -t 8 -B 4 -y 250 -z 250 -A sam -D \\'.\\' -d miseq20141016 --input-buffer-size 10000 --sam-multiple-primaries ' + \" \".join(reads) + ' > ' + lane + '.sam')\n",
      "    \n",
      "    # convert from .sam file to .bam file\n",
      "    os.system('samtools view -b -S ' + lane + '.sam > ' + lane + '.bam')\n",
      "    \n",
      "    # sort .bam file\n",
      "    os.system('samtools sort ' + lane + '.bam ' + lane + '.sorted')\n",
      "    \n",
      "    # index bam file\n",
      "    os.system('samtools index ' + lane + '.sorted.bam')\n",
      "    \n",
      "    ## EVERYTHING BELOW HERE IS OPTIONAL - BASIC QUANTIFICATION OF INDEL SIZE/FREQUENCY\n",
      "    ## THERE ARE SEVERAL ARGUMENTS THAT HAVE BEEN HARD-CODED TO MATCH THE PARTICULAR EXPERIMENT\n",
      "        \n",
      "    # use pysamstats to count the number of reads at each bp that have aligned with an insertion or deletion\n",
      "    # change the --fasta argument to match the fasta file used to create the gmap database\n",
      "    os.system('pysamstats --type variation ' + lane + '.sorted.bam --fasta   genome20141016.fa > ' + lane + '.variant.stats')\n"
     ],
     "language": "python",
     "metadata": {},
     "outputs": [
      {
       "output_type": "stream",
       "stream": "stdout",
       "text": [
        "['running laneS1']\n",
        "['running laneS2']"
       ]
      },
      {
       "output_type": "stream",
       "stream": "stdout",
       "text": [
        "\n",
        "['running laneS3']"
       ]
      },
      {
       "output_type": "stream",
       "stream": "stdout",
       "text": [
        "\n",
        "['running laneS4']"
       ]
      },
      {
       "output_type": "stream",
       "stream": "stdout",
       "text": [
        "\n",
        "['running laneS5']"
       ]
      },
      {
       "output_type": "stream",
       "stream": "stdout",
       "text": [
        "\n",
        "['running laneS6']"
       ]
      },
      {
       "output_type": "stream",
       "stream": "stdout",
       "text": [
        "\n",
        "['running laneS7']"
       ]
      },
      {
       "output_type": "stream",
       "stream": "stdout",
       "text": [
        "\n",
        "['running laneS8']"
       ]
      },
      {
       "output_type": "stream",
       "stream": "stdout",
       "text": [
        "\n",
        "['running laneS9']"
       ]
      },
      {
       "output_type": "stream",
       "stream": "stdout",
       "text": [
        "\n",
        "['running laneS10']"
       ]
      },
      {
       "output_type": "stream",
       "stream": "stdout",
       "text": [
        "\n",
        "['running laneS11']"
       ]
      },
      {
       "output_type": "stream",
       "stream": "stdout",
       "text": [
        "\n",
        "['running laneS12']"
       ]
      },
      {
       "output_type": "stream",
       "stream": "stdout",
       "text": [
        "\n",
        "['running laneS13']"
       ]
      },
      {
       "output_type": "stream",
       "stream": "stdout",
       "text": [
        "\n",
        "['running laneS14']"
       ]
      },
      {
       "output_type": "stream",
       "stream": "stdout",
       "text": [
        "\n",
        "['running laneS15']"
       ]
      },
      {
       "output_type": "stream",
       "stream": "stdout",
       "text": [
        "\n",
        "['running laneS16']"
       ]
      },
      {
       "output_type": "stream",
       "stream": "stdout",
       "text": [
        "\n",
        "['running laneS17']"
       ]
      },
      {
       "output_type": "stream",
       "stream": "stdout",
       "text": [
        "\n",
        "['running laneS18']"
       ]
      },
      {
       "output_type": "stream",
       "stream": "stdout",
       "text": [
        "\n",
        "['running laneS19']"
       ]
      },
      {
       "output_type": "stream",
       "stream": "stdout",
       "text": [
        "\n",
        "['running laneS20']"
       ]
      },
      {
       "output_type": "stream",
       "stream": "stdout",
       "text": [
        "\n",
        "['running laneS21']"
       ]
      },
      {
       "output_type": "stream",
       "stream": "stdout",
       "text": [
        "\n",
        "['running laneS22']"
       ]
      },
      {
       "output_type": "stream",
       "stream": "stdout",
       "text": [
        "\n",
        "['running laneS23']"
       ]
      },
      {
       "output_type": "stream",
       "stream": "stdout",
       "text": [
        "\n",
        "['running laneS24']"
       ]
      },
      {
       "output_type": "stream",
       "stream": "stdout",
       "text": [
        "\n",
        "['running laneS25']"
       ]
      },
      {
       "output_type": "stream",
       "stream": "stdout",
       "text": [
        "\n",
        "['running laneS26']"
       ]
      },
      {
       "output_type": "stream",
       "stream": "stdout",
       "text": [
        "\n",
        "['running laneS27']"
       ]
      },
      {
       "output_type": "stream",
       "stream": "stdout",
       "text": [
        "\n",
        "['running laneS28']"
       ]
      },
      {
       "output_type": "stream",
       "stream": "stdout",
       "text": [
        "\n",
        "['running laneS29']"
       ]
      },
      {
       "output_type": "stream",
       "stream": "stdout",
       "text": [
        "\n",
        "['running laneS30']"
       ]
      },
      {
       "output_type": "stream",
       "stream": "stdout",
       "text": [
        "\n",
        "['running laneS31']"
       ]
      },
      {
       "output_type": "stream",
       "stream": "stdout",
       "text": [
        "\n",
        "['running laneS32']"
       ]
      },
      {
       "output_type": "stream",
       "stream": "stdout",
       "text": [
        "\n",
        "['running laneS33']"
       ]
      },
      {
       "output_type": "stream",
       "stream": "stdout",
       "text": [
        "\n",
        "['running laneS34']"
       ]
      },
      {
       "output_type": "stream",
       "stream": "stdout",
       "text": [
        "\n",
        "['running laneS35']"
       ]
      },
      {
       "output_type": "stream",
       "stream": "stdout",
       "text": [
        "\n",
        "['running laneS36']"
       ]
      },
      {
       "output_type": "stream",
       "stream": "stdout",
       "text": [
        "\n",
        "['running laneS37']"
       ]
      },
      {
       "output_type": "stream",
       "stream": "stdout",
       "text": [
        "\n",
        "['running laneS38']"
       ]
      },
      {
       "output_type": "stream",
       "stream": "stdout",
       "text": [
        "\n",
        "['running laneS39']"
       ]
      },
      {
       "output_type": "stream",
       "stream": "stdout",
       "text": [
        "\n",
        "['running laneS40']"
       ]
      },
      {
       "output_type": "stream",
       "stream": "stdout",
       "text": [
        "\n",
        "['running laneS41']"
       ]
      },
      {
       "output_type": "stream",
       "stream": "stdout",
       "text": [
        "\n",
        "['running laneS42']"
       ]
      },
      {
       "output_type": "stream",
       "stream": "stdout",
       "text": [
        "\n",
        "['running laneS43']"
       ]
      },
      {
       "output_type": "stream",
       "stream": "stdout",
       "text": [
        "\n",
        "['running laneS44']"
       ]
      },
      {
       "output_type": "stream",
       "stream": "stdout",
       "text": [
        "\n",
        "['running laneS45']"
       ]
      },
      {
       "output_type": "stream",
       "stream": "stdout",
       "text": [
        "\n",
        "['running laneS46']"
       ]
      },
      {
       "output_type": "stream",
       "stream": "stdout",
       "text": [
        "\n",
        "['running laneS47']"
       ]
      },
      {
       "output_type": "stream",
       "stream": "stdout",
       "text": [
        "\n",
        "['running laneS48']"
       ]
      },
      {
       "output_type": "stream",
       "stream": "stdout",
       "text": [
        "\n",
        "['running laneS49']"
       ]
      },
      {
       "output_type": "stream",
       "stream": "stdout",
       "text": [
        "\n",
        "['running laneS50']"
       ]
      },
      {
       "output_type": "stream",
       "stream": "stdout",
       "text": [
        "\n",
        "['running laneS51']"
       ]
      },
      {
       "output_type": "stream",
       "stream": "stdout",
       "text": [
        "\n"
       ]
      }
     ],
     "prompt_number": 6
    },
    {
     "cell_type": "code",
     "collapsed": false,
     "input": [],
     "language": "python",
     "metadata": {},
     "outputs": []
    }
   ],
   "metadata": {}
  }
 ]
}