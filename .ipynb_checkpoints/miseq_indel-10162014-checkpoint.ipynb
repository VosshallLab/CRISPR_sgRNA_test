{
 "metadata": {
  "name": "",
  "signature": "sha256:215d68599c58bfc20e84a3780c4ba53de95b2e345a39362d8f4c07eae0ac32ea"
 },
 "nbformat": 3,
 "nbformat_minor": 0,
 "worksheets": [
  {
   "cells": [
    {
     "cell_type": "heading",
     "level": 1,
     "metadata": {},
     "source": [
      "Analysis of indel rates in deep-sequencing PCR amplicons"
     ]
    },
    {
     "cell_type": "markdown",
     "metadata": {},
     "source": [
      "script to align deep sequencing reads and detect indels caused by ZFN/TALEN/CRISPR<br>\n",
      "ben matthews 08/2014<br>\n",
      "bmatthews@rockefeller.edu<br>\n",
      "[http://github.com/bnmtthws/crispr_indel/](github)\n",
      "\n",
      "---\n",
      "software requirements and *tested versions*:<br>\n",
      "1. gmap/gsnap [http://research-pub.gene.com/gmap/] *version 10-09-2014*<br>\n",
      "2. pysam [https://github.com/pysam-developers/pysam] *version 0.8.0*<br>\n",
      "3. samtools/htslib [http://www.htslib.org] *version 1.1*<br>\n",
      "  \n",
      "python package requirements:<br>\n",
      "1. pysamstats [https://github.com/alimanfoo/pysamstats] *version 0.16*<br>\n",
      "2. seaborn [http://web.stanford.edu/~mwaskom/software/seaborn/] *version 0.4.0*<br>\n",
      "  \n",
      "---\n",
      "output:\n",
      "1. sorted .bam files for each sample\n",
      "2. .variant.stats file summarizing indel/SNP rates for each sample\n",
      "3. coming soon: figure output\n",
      "\n",
      "input:\n",
      "1. directory of .fastq files with numbered samples denoted by *SX*.fastq (the default output from an Illumina MiSeq instrument)\n",
      "2. fasta file to serve as a 'genome' for the gapped alignments"
     ]
    },
    {
     "cell_type": "code",
     "collapsed": false,
     "input": [
      "# import our libraries\n",
      "import sys,re,csv,glob,os,pysam,seaborn"
     ],
     "language": "python",
     "metadata": {},
     "outputs": []
    },
    {
     "cell_type": "heading",
     "level": 3,
     "metadata": {},
     "source": [
      "change to working directory for this experiment"
     ]
    },
    {
     "cell_type": "code",
     "collapsed": false,
     "input": [
      "%cd '/Volumes/BenPassport/miseq20141016/'"
     ],
     "language": "python",
     "metadata": {},
     "outputs": []
    },
    {
     "cell_type": "heading",
     "level": 3,
     "metadata": {},
     "source": [
      "generate gmap database"
     ]
    },
    {
     "cell_type": "code",
     "collapsed": false,
     "input": [
      "!gmap_build -D '.' -d miseq20141016 genome20141016.fa"
     ],
     "language": "python",
     "metadata": {},
     "outputs": []
    },
    {
     "cell_type": "markdown",
     "metadata": {},
     "source": [
      "####cycle through each sample, align to genome with gmap and check for variants with pysamstats"
     ]
    },
    {
     "cell_type": "code",
     "collapsed": false,
     "input": [
      "lanes=[]\n",
      "for i in range(55):\n",
      "    lanes.append(\"S\"+str(i))\n",
      "\n",
      "# the first argument to the script is a directory that contains all of the .fq files\n",
      "readfiles = 'fastq';\n",
      "genome_fa = 'genome20141016.fa';\n",
      "\n",
      "# cycle through each of the samples\n",
      "for lane in lanes:\n",
      "    \n",
      "    # this will be the file name of the bam file created\n",
      "    bamFile= '.'.join([lane,'sorted.bam']);\n",
      "    \n",
      "    # this finds all of the .fastq files associated with the sample number\n",
      "    reads = glob.glob(readfiles + '/*' + lane + '_*.fastq')\n",
      "      \n",
      "    # first, let's align the reads with gsnap - set to allow indels of +/- 250bp\n",
      "    # http://research-pub.gene.com/gmap/\n",
      "    \n",
      "    print(['running lane' + lane])\n",
      "    \n",
      "    # gsnap alignment\n",
      "    # change the -d argument to match a gmap database that you've built with gmap_build\n",
      "    \n",
      "    os.system('gsnap -t 8 -B 4 -y 250 -z 250 -A sam -D \\'.\\' -d miseq20141016 --input-buffer-size 10000 --sam-multiple-primaries ' + \" \".join(reads) + ' > ' + lane + '.sam')\n",
      "    \n",
      "    # convert from .sam file to .bam file\n",
      "    os.system('samtools view -b -S ' + lane + '.sam > ' + lane + '.bam')\n",
      "    \n",
      "    # sort .bam file\n",
      "    os.system('samtools sort ' + lane + '.bam ' + lane + '.sorted')\n",
      "    \n",
      "    # index bam file\n",
      "    os.system('samtools index ' + bamFile)\n",
      "    \n",
      "    # remove unsorted .bam and .sam files\n",
      "    os.system('rm ' + lane + '.sam')\n",
      "    os.system('rm ' + lane + '.bam')\n",
      "        \n",
      "    # use pysamstats to count the number of reads at each bp that have aligned with an insertion or deletion\n",
      "    # change the --fasta argument to match the fasta file used to create the gmap database\n",
      "    os.system('pysamstats --type variation -D 10000000 ' + lane + '.sorted.bam --fasta ' + genome_fa + ' > ' + lane + '.variant.stats')\n"
     ],
     "language": "python",
     "metadata": {},
     "outputs": []
    },
    {
     "cell_type": "code",
     "collapsed": false,
     "input": [],
     "language": "python",
     "metadata": {},
     "outputs": []
    },
    {
     "cell_type": "code",
     "collapsed": false,
     "input": [],
     "language": "python",
     "metadata": {},
     "outputs": []
    }
   ],
   "metadata": {}
  }
 ]
}