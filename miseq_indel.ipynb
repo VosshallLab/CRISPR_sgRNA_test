{
 "metadata": {
  "name": "",
  "signature": "sha256:a6c2af15f24d87590b96629aeb2e71f5b2be3237a1edfc5f2c5ecd5fbf8ad4f9"
 },
 "nbformat": 3,
 "nbformat_minor": 0,
 "worksheets": [
  {
   "cells": [
    {
     "cell_type": "heading",
     "level": 1,
     "metadata": {},
     "source": [
      "Analysis of indel rates in deep-sequencing PCR amplicons"
     ]
    },
    {
     "cell_type": "heading",
     "level": 2,
     "metadata": {},
     "source": [
      "# script to align miseq reads to detect indels caused by ZFN/TALEN/CRISPR\n",
      "# ben matthews 08/2014\n",
      "# bmatthews@rockefeller.edu\n",
      "\n",
      "# pre-requisites: python packages\n",
      "# pysam (*not* the latest version; use version)\n",
      "\n",
      "# pre-requisites: other tools\n",
      "# samtools, gmap/gsnap, pysamstats\n",
      "\n",
      "# output:\n",
      "# sorted .bam files for each sample\n",
      "# *.variant.stats file summarizing indel/SNP rates for each sample\n",
      "\n",
      "# input:\n",
      "# directory of .fastq files with numbered samples denoted by *SX*.fastq (the default output from an Illumina MiSeq instrument)\n",
      "# fasta file to serve as a 'genome' for the gapped alignments"
     ]
    },
    {
     "cell_type": "code",
     "collapsed": false,
     "input": [
      "# import our libraries\n",
      "import sys,re,csv,glob,os,pysam"
     ],
     "language": "python",
     "metadata": {},
     "outputs": [],
     "prompt_number": 1
    },
    {
     "cell_type": "heading",
     "level": 3,
     "metadata": {},
     "source": [
      "generate gmap database"
     ]
    },
    {
     "cell_type": "code",
     "collapsed": false,
     "input": [
      "!gmap_build -d miseq genome.fa"
     ],
     "language": "python",
     "metadata": {},
     "outputs": [
      {
       "output_type": "stream",
       "stream": "stdout",
       "text": [
        "-k flag not specified, so building with default 15-mers\r\n",
        "Destination directory not defined with -D flag, so writing to /usr/local/share\r\n",
        "Sorting chromosomes in chrom order.  To turn off or sort other ways, use the -s flag.\r\n",
        "Creating files in directory /usr/local/share/miseq\r\n"
       ]
      },
      {
       "output_type": "stream",
       "stream": "stdout",
       "text": [
        "Running /usr/local/bin/fa_coords    -o /usr/local/share/miseq.coords -f /usr/local/share/miseq.sources\r\n"
       ]
      },
      {
       "output_type": "stream",
       "stream": "stdout",
       "text": [
        "Opening file genome.fa\r\n",
        "Can't open file genome.fa at /usr/local/bin/fa_coords line 209.\r\n",
        "/usr/local/bin/fa_coords    -o /usr/local/share/miseq.coords -f /usr/local/share/miseq.sources failed with return code 512 at /usr/local/bin/gmap_build line 236.\r\n"
       ]
      }
     ],
     "prompt_number": 3
    },
    {
     "cell_type": "code",
     "collapsed": false,
     "input": [
      "lanes=[]\n",
      "for i in range(96):\n",
      "    lanes.append(\"S\"+str(i+1))\n",
      "\n",
      "# the first argument to the script is a directory that contains all of the .fq files\n",
      "readfiles = os.listdir(sys.argv[1]);\n",
      "\n",
      "# cycle through each of the samples\n",
      "for lane in lanes:\n",
      "    \n",
      "    # this will be the file name of the bam file created\n",
      "    bamFile= '.'.join([lane,'sorted.bam']);\n",
      "    \n",
      "    # this finds all of the .fastq files associated with the sample number\n",
      "    reads = glob.glob(sys.argv[1] + '/*' + lane + '_*.fastq')\n",
      "    \n",
      "    \n",
      "    # first, let's align the reads with gsnap - set to allow indels of +/- 250bp\n",
      "    # http://research-pub.gene.com/gmap/\n",
      "    # you will have to copmile gmap/gsnap to allow for long reads like so:\n",
      "    # ./configure MAX_READLENGTH=750; make; make install\n",
      "    \n",
      "    print(['running lane' + lane])\n",
      "    \n",
      "    # gsnap alignment\n",
      "    # change the -d argument to match a gmap database that you've built with gmap_build\n",
      "    \n",
      "    os.system('gsnap -t 8 -B 4 -y 250 -z 250 -A sam -d miseq_08112014 --input-buffer-size 10000 --sam-multiple-primaries ' + \" \".join(reads) + ' > ' + lane + '.sam')\n",
      "    \n",
      "    # convert from .sam file to .bam file\n",
      "    os.system('samtools view -b -S ' + lane + '.sam > ' + lane + '.bam')\n",
      "    \n",
      "    # sort .bam file\n",
      "    os.system('samtools sort ' + lane + '.bam ' + lane + '.sorted')\n",
      "    \n",
      "    # index bam file\n",
      "    os.system('samtools index ' + lane + '.sorted.bam')\n",
      "    \n",
      "    ## EVERYTHING BELOW HERE IS OPTIONAL - BASIC QUANTIFICATION OF INDEL SIZE/FREQUENCY\n",
      "    ## THERE ARE SEVERAL ARGUMENTS THAT HAVE BEEN HARD-CODED TO MATCH THE PARTICULAR EXPERIMENT\n",
      "        \n",
      "    # use pysamstats to count the number of reads at each bp that have aligned with an insertion or deletion\n",
      "    # change the --fasta argument to match the fasta file used to create the gmap database\n",
      "    os.system('pysamstats --type variation ' + lane + '.sorted.bam --fasta   genome_08112014.fa > ' + lane + '.variant.stats')\n",
      "    \n",
      "\n"
     ],
     "language": "python",
     "metadata": {},
     "outputs": []
    }
   ],
   "metadata": {}
  }
 ]
}