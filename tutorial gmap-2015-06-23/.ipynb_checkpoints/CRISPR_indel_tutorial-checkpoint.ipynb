{
 "metadata": {
  "name": "",
  "signature": "sha256:094cc466562d04a9420caf6e1cf98ad2917241131b273ece6c5515c07f1c0732"
 },
 "nbformat": 3,
 "nbformat_minor": 0,
 "worksheets": [
  {
   "cells": [
    {
     "cell_type": "markdown",
     "metadata": {},
     "source": [
      "#tutorial alignment and indel analysis"
     ]
    },
    {
     "cell_type": "markdown",
     "metadata": {},
     "source": [
      "##script to align deep sequencing reads and detect indels caused by ZFN/TALEN/CRISPR<br>\n",
      "\n",
      "Companion to the bioRxiv manuscript \n",
      "[Genome engineering with CRISPR-Cas9 in the mosquito Aedes aegypti](http://bioRxiv.org)<br>\n",
      "Katie E. Kistler, Leslie B. Vosshall, and [Benjamin J. Matthews](bmatthews@rockefeller.edu)<br>\n",
      "[github link](http://github.com/bnmtthws/crispr_indel/)<br>\n",
      "\n",
      "###Tutorial: example dataset for alignment and analysis\n",
      "\n",
      "####Steps: <br>\n",
      "1. Set up the python environment and define our filenames\n",
      "2. Gapped alignments of reads to a reference sequence\n",
      "3. Extraction of variant types by the package pysamstats\n",
      "4. Aggregation, plotting, and analysis of data\n",
      "\n",
      "---\n",
      "tested on MacOS X 10.10 (Yosemite) and Linux (RHEL 6)\n",
      "\n",
      "software requirements and *tested versions*:<br>\n",
      "1. gmap/gsnap [http://research-pub.gene.com/gmap/] *version 10-22-2014*<br>\n",
      "2. pysam [https://github.com/pysam-developers/pysam] *version 0.8.0*<br>\n",
      "3. samtools/htslib [http://www.htslib.org] *version 1.1*<br>\n",
      "  \n",
      "python package requirements:<br>\n",
      "1. pysamstats [https://github.com/alimanfoo/pysamstats] *version 0.19*<br>\n",
      "2. numpy\n",
      "3. pandas\n",
      "4. seaborn (for plotting)\n",
      "  \n",
      "---\n",
      "input:\n",
      "1. miseq.fastq: a file containing 150bp reads from an Illumina MiSeq instrument of a PCR amplicon surrounding a CRISPR cut site\n",
      "2. reference.fa - a fasta file containing the wild-type reference sequence for the PCR amplicon\n",
      "\n",
      "output:\n",
      "1. sorted .bam files for each sample\n",
      "2. *.variant.stats file summarizing indel/SNP rates for each sample"
     ]
    },
    {
     "cell_type": "markdown",
     "metadata": {},
     "source": [
      "## Step 1: Set up the python environment and define our filenames"
     ]
    },
    {
     "cell_type": "code",
     "collapsed": false,
     "input": [
      "# import our libraries\n",
      "import sys,re,csv,glob,os,pysam\n",
      "import pandas as pd\n",
      "import numpy as np\n",
      "import matplotlib as mp\n",
      "import seaborn\n",
      "\n",
      "# for ipython notebook: look at plots inline\n",
      "%matplotlib inline"
     ],
     "language": "python",
     "metadata": {},
     "outputs": [],
     "prompt_number": 2
    },
    {
     "cell_type": "markdown",
     "metadata": {},
     "source": [
      "###define our filenames.\n",
      "\n",
      "for this example, miseq.fq contains a random sample of 100,000 reads from a single MiSeq library that align to the three sequences in the reference.fa file"
     ]
    },
    {
     "cell_type": "code",
     "collapsed": false,
     "input": [
      "input_reads = 'miseq.fastq'\n",
      "reference = 'reference.fa'\n",
      "gmap_dir = 'tutorial_gmap'\n",
      "gmap_reference = 'tutorial_ref'"
     ],
     "language": "python",
     "metadata": {},
     "outputs": [],
     "prompt_number": 3
    },
    {
     "cell_type": "markdown",
     "metadata": {},
     "source": [
      "##Step 2: Gapped alignment of reads to a reference sequence\n",
      "\n",
      "For this, we use the gmap/gsnap [http://research-pub.gene.com/gmap/].  However, any short-read aligner that allows for gaps (and can be set to allow large indels during alignment) is likely suitable for this task.\n",
      "\n",
      "The code below assumes that gmap/gsnap has been installed and is in your path."
     ]
    },
    {
     "cell_type": "code",
     "collapsed": false,
     "input": [
      "# generate reference database using gmap/gsnap\n",
      "!mkdir {gmap_dir}\n",
      "!gmap_build -D {gmap_dir} -d {gmap_reference} {reference}"
     ],
     "language": "python",
     "metadata": {},
     "outputs": [
      {
       "output_type": "stream",
       "stream": "stdout",
       "text": [
        "mkdir: tutorial_gmap: File exists\r\n"
       ]
      },
      {
       "output_type": "stream",
       "stream": "stdout",
       "text": [
        "-k flag not specified, so building with default 15-mers\r\n",
        "Sorting chromosomes in chrom order.  To turn off or sort other ways, use the -s flag.\r\n",
        "Checking compiler assumptions for popcnt: 000041A7 __builtin_clz=17 __builtin_ctz=0 _mm_popcnt_u32=7 __builtin_popcount=7 \r\n",
        "Checking compiler assumptions for SSE2: 000041A7 10D63AF1 xor=10D67B56\r\n",
        "Checking compiler assumptions for SSE4.1: -89 -15 max=241 => compiler zero extends\r\n",
        "Finished checking compiler assumptions\r\n",
        "Creating files in directory tutorial_gmap/tutorial_ref\r\n"
       ]
      },
      {
       "output_type": "stream",
       "stream": "stdout",
       "text": [
        "Running /usr/local/bin/fa_coords    -o tutorial_gmap/tutorial_ref.coords -f tutorial_gmap/tutorial_ref.sources\r\n",
        "Opening file reference.fa\r\n",
        "  Processed short contigs (<1000000 nt): ...\r\n",
        "============================================================\r\n",
        "Contig mapping information has been written to file tutorial_gmap/tutorial_ref.coords.\r\n",
        "You should look at this file, and edit it if necessary\r\n",
        "If everything is okay, you should proceed by running\r\n",
        "    make gmapdb\r\n",
        "============================================================\r\n"
       ]
      },
      {
       "output_type": "stream",
       "stream": "stdout",
       "text": [
        "Running /usr/local/bin/gmap_process  -c tutorial_gmap/tutorial_ref.coords -f tutorial_gmap/tutorial_ref.sources | /usr/local/bin/gmapindex  -d tutorial_ref -D tutorial_gmap/tutorial_ref -A \r\n"
       ]
      },
      {
       "output_type": "stream",
       "stream": "stdout",
       "text": [
        "Reading coordinates from file tutorial_gmap/tutorial_ref.coords\r\n",
        "Logging contig AAEL002575 at AAEL002575:1..501 in genome tutorial_ref\r\n",
        "Logging contig AAEL014228 at AAEL014228:1..501 in genome tutorial_ref\r\n",
        "Logging contig AAEL013647 at AAEL013647:1..501 in genome tutorial_ref\r\n",
        "Total genomic length = 1503 bp\r\n",
        "Have a total of 3 chromosomes\r\n",
        "Chromosome AAEL002575 has universal coordinates 1..501\r\n",
        "Chromosome AAEL013647 has universal coordinates 502..1002\r\n",
        "Chromosome AAEL014228 has universal coordinates 1003..1503\r\n",
        "Writing IIT file header information...coordinates require 4 bytes each...done\r\n",
        "Processing null division/chromosome...sorting...writing...done (3 intervals)\r\n",
        "Writing IIT file footer information...done\r\n",
        "Writing IIT file header information...coordinates require 4 bytes each...done\r\n",
        "Processing null division/chromosome...sorting...writing...done (3 intervals)\r\n",
        "Writing IIT file footer information...done\r\n"
       ]
      },
      {
       "output_type": "stream",
       "stream": "stdout",
       "text": [
        "Running /usr/local/bin/gmap_process  -c tutorial_gmap/tutorial_ref.coords -f tutorial_gmap/tutorial_ref.sources | /usr/local/bin/gmapindex  -d tutorial_ref -F tutorial_gmap/tutorial_ref -D tutorial_gmap/tutorial_ref -G\r\n",
        "Genome length is 1503 nt\r\n",
        "Trying to allocate 141*4 bytes of memory...succeeded.  Building genome in memory.\r\n"
       ]
      },
      {
       "output_type": "stream",
       "stream": "stdout",
       "text": [
        "Reading coordinates from file tutorial_gmap/tutorial_ref.coords\r\n",
        "Writing contig AAEL002575 to universal coordinates 1..501\r\n",
        "Writing contig AAEL014228 to universal coordinates 1003..1503\r\n",
        "Writing contig AAEL013647 to universal coordinates 502..1002\r\n",
        "A total of 0 non-ACGTNX characters were seen in the genome.\r\n"
       ]
      },
      {
       "output_type": "stream",
       "stream": "stdout",
       "text": [
        "Running cat tutorial_gmap/tutorial_ref/tutorial_ref.genomecomp | /usr/local/bin/gmapindex -d tutorial_ref -U > tutorial_gmap/tutorial_ref/tutorial_ref.genomebits128\r\n"
       ]
      },
      {
       "output_type": "stream",
       "stream": "stdout",
       "text": [
        "Running cat tutorial_gmap/tutorial_ref/tutorial_ref.genomecomp | /usr/local/bin/gmapindex -k 15 -q 3  -d tutorial_ref -F tutorial_gmap/tutorial_ref -D tutorial_gmap/tutorial_ref -N\r\n",
        "Counting positions in genome tutorial_ref (15 bp every 3 bp), position 0\r\n",
        "Number of offsets: 489 => pages file not required\r\n"
       ]
      },
      {
       "output_type": "stream",
       "stream": "stdout",
       "text": [
        "Running cat tutorial_gmap/tutorial_ref/tutorial_ref.genomecomp | /usr/local/bin/gmapindex -k 15 -q 3  -d tutorial_ref -F tutorial_gmap/tutorial_ref -D tutorial_gmap/tutorial_ref -O \r\n",
        "Offset compression types: bitpack64\r\n",
        "Allocating 1073741825*4 bytes for offsets\r\n",
        "Indexing offsets of oligomers in genome tutorial_ref (15 bp every 3 bp), position 0\r\n"
       ]
      },
      {
       "output_type": "stream",
       "stream": "stdout",
       "text": [
        "Writing 1073741825 offsets compressed via bitpack64 to file with total of 489 k-mers..."
       ]
      },
      {
       "output_type": "stream",
       "stream": "stdout",
       "text": [
        "Checking bitpack..."
       ]
      },
      {
       "output_type": "stream",
       "stream": "stdout",
       "text": [
        "done\r\n"
       ]
      },
      {
       "output_type": "stream",
       "stream": "stdout",
       "text": [
        "Running cat tutorial_gmap/tutorial_ref/tutorial_ref.genomecomp | /usr/local/bin/gmapindex -k 15 -q 3  -d tutorial_ref -F tutorial_gmap/tutorial_ref -D tutorial_gmap/tutorial_ref -P\r\n"
       ]
      },
      {
       "output_type": "stream",
       "stream": "stdout",
       "text": [
        "Looking for index files in directory tutorial_gmap/tutorial_ref\r\n",
        "  Pointers file is tutorial_ref.ref153offsets64meta\r\n",
        "  Offsets file is tutorial_ref.ref153offsets64strm\r\n",
        "  Positions file is tutorial_ref.ref153positions\r\n"
       ]
      },
      {
       "output_type": "stream",
       "stream": "stdout",
       "text": [
        "Allocating memory (1073741825 4-byte words) for offsets, kmer 15...done\r\n",
        "Expanding offsetsstrm into offsets..."
       ]
      },
      {
       "output_type": "stream",
       "stream": "stdout",
       "text": [
        "done\r\n",
        "Trying to allocate 489*4 bytes of memory for positions...succeeded.  Building positions in memory.\r\n",
        "Indexing positions of oligomers in genome tutorial_ref (15 bp every 3 bp), position 0\r\n",
        "Writing 489 genomic positions to file tutorial_gmap/tutorial_ref/tutorial_ref.ref153positions ...\r\n"
       ]
      },
      {
       "output_type": "stream",
       "stream": "stdout",
       "text": [
        "Running /usr/local/bin/gmapindex -d tutorial_ref -F tutorial_gmap/tutorial_ref -D tutorial_gmap/tutorial_ref -S\r\n",
        "Genome length is 1503\r\n",
        "Building suffix array\r\n",
        "SACA_K called with n = 1504, K = 5, level 0\r\n",
        "SACA_K called with n = 413, K = 0, level 1\r\n"
       ]
      },
      {
       "output_type": "stream",
       "stream": "stdout",
       "text": [
        "For indexsize 12, occupied 1490/16777216\r\n",
        "Optimal indexsize = 12\r\n"
       ]
      },
      {
       "output_type": "stream",
       "stream": "stdout",
       "text": [
        "Running /usr/local/bin/gmapindex -d tutorial_ref -F tutorial_gmap/tutorial_ref -D tutorial_gmap/tutorial_ref -L\r\n",
        "Building LCP array\r\n",
        "Writing temporary file for rank...done\r\n",
        "Writing temporary file for permuted sarray...done\r\n",
        "Byte-coding: 1504 values < 255, 0 exceptions >= 255 (0.0%)\r\n",
        "Building DC array\r\n",
        "Building child array\r\n",
        "Writing file tutorial_gmap/tutorial_ref/tutorial_ref.salcpchilddcdone\r\n",
        "Byte-coding: 1498 values < 255, 6 exceptions >= 255 (0.4%)\r\n"
       ]
      }
     ],
     "prompt_number": 4
    },
    {
     "cell_type": "markdown",
     "metadata": {},
     "source": [
      "## run gsnap on sequence file"
     ]
    },
    {
     "cell_type": "code",
     "collapsed": false,
     "input": [
      "gmap_command = 'gsnap -t 8 -B 4 -y 250 -z 250 -A sam -D ' + gmap_dir + ' -d ' + gmap_reference + ' --input-buffer-size 10000 --sam-multiple-primaries ' + input_reads + ' > ' + input_reads + '.sam'\n",
      "\n",
      "!{gmap_command}"
     ],
     "language": "python",
     "metadata": {},
     "outputs": [
      {
       "output_type": "stream",
       "stream": "stdout",
       "text": [
        "GSNAP version 2014-12-17 called with args: gsnap -t 8 -B 4 -y 250 -z 250 -A sam -D tutorial_gmap -d tutorial_ref --input-buffer-size 10000 --sam-multiple-primaries miseq.fastq\r\n",
        "Checking compiler assumptions for popcnt: 000041A7 __builtin_clz=17 __builtin_ctz=0 _mm_popcnt_u32=7 __builtin_popcount=7 \r\n",
        "Checking compiler assumptions for SSE2: 000041A7 10D63AF1 xor=10D67B56\r\n",
        "Checking compiler assumptions for SSE4.1: -89 -15 max=241 => compiler zero extends\r\n",
        "Finished checking compiler assumptions\r\n",
        "Neither novel splicing (-N) nor known splicing (-s) turned on => assume reads are DNA-Seq (genomic)\r\n"
       ]
      },
      {
       "output_type": "stream",
       "stream": "stdout",
       "text": [
        "Note: >1 sequence detected, so index files are being memory mapped.\r\n",
        "  GSNAP can run slowly at first while the computer starts to accumulate\r\n",
        "  pages from the hard disk into its cache.  To copy index files into RAM\r\n",
        "  instead of memory mapping, use -B 3, -B 4, or -B 5, if you have enough RAM.\r\n",
        "  For more speed, also try multiple threads (-t <int>), if you have multiple processors or cores.\r\n",
        "Allocating memory for compressed genome (oligos)...done (564 bytes, 0.00 sec)\r\n",
        "Allocating memory for compressed genome (bits)...done (576 bytes, 0.00 sec)\r\n",
        "Pre-loading suffix array....done (6,016 bytes)\r\n",
        "Looking for index files in directory tutorial_gmap/tutorial_ref\r\n",
        "  Pointers file is tutorial_ref.ref153offsets64meta\r\n",
        "  Offsets file is tutorial_ref.ref153offsets64strm\r\n",
        "  Positions file is tutorial_ref.ref153positions\r\n",
        "Offsets compression type: bitpack64\r\n",
        "Allocating memory for ref offset pointers, kmer 15, interval 3..."
       ]
      },
      {
       "output_type": "stream",
       "stream": "stdout",
       "text": [
        "done (134,217,744 bytes, 0.10 sec)\r\n",
        "Allocating memory for ref offsets, kmer 15, interval 3...done (7,808 bytes, 0.00 sec)\r\n",
        "Allocating memory for ref positions, kmer 15, interval 3...done (1,956 bytes, 0.00 sec)\r\n"
       ]
      },
      {
       "output_type": "stream",
       "stream": "stdout",
       "text": [
        "GMAP modes: pairsearch, indel_knownsplice, terminal, improvement\r\n",
        "Starting alignment\r\n"
       ]
      },
      {
       "output_type": "stream",
       "stream": "stdout",
       "text": [
        "Processed 100000 queries in 5.40 seconds (18518.52 queries/sec)\r\n"
       ]
      }
     ],
     "prompt_number": 5
    },
    {
     "cell_type": "code",
     "collapsed": false,
     "input": [
      "# convert from .sam file to .bam file\n",
      "samtools_bam = 'samtools view -b -S ' + input_reads + '.sam > ' + input_reads + '.bam'\n",
      "\n",
      "# sort .bam file\n",
      "samtools_sort = 'samtools sort ' + input_reads + '.bam ' + input_reads + '.sorted'\n",
      "\n",
      "# index bam file\n",
      "samtools_index = 'samtools index ' + input_reads + '.sorted.bam'\n",
      "\n",
      "!{samtools_bam}\n",
      "!{samtools_sort}\n",
      "!{samtools_index}\n",
      "\n",
      "# remove temporary files\n",
      "remove_temp = 'rm ' + input_reads + '.sam ' + input_reads + '.bam'\n",
      "\n",
      "!{remove_temp}"
     ],
     "language": "python",
     "metadata": {},
     "outputs": [],
     "prompt_number": 6
    },
    {
     "cell_type": "markdown",
     "metadata": {},
     "source": [
      "## Step 3 - extract variant information from alignments\n",
      "\n",
      "We use the tool pysamstats to extract information about variants from the sorted .bam file"
     ]
    },
    {
     "cell_type": "code",
     "collapsed": false,
     "input": [
      "pysamstats = 'pysamstats --type variation -D 5000000 ' + input_reads + '.sorted.bam --fasta ' + reference + ' > ' + input_reads + '.variant.stats'\n",
      "\n",
      "!{pysamstats}\n"
     ],
     "language": "python",
     "metadata": {},
     "outputs": [],
     "prompt_number": 7
    },
    {
     "cell_type": "markdown",
     "metadata": {},
     "source": [
      "Next, we read the resulting .stats file (a tab-delimited text file) into a pandas data array"
     ]
    },
    {
     "cell_type": "code",
     "collapsed": false,
     "input": [
      "variants = pd.read_csv(input_reads + '.variant.stats',delimiter='\\t')"
     ],
     "language": "python",
     "metadata": {},
     "outputs": [],
     "prompt_number": 8
    },
    {
     "cell_type": "markdown",
     "metadata": {},
     "source": [
      "We calculate an 'indel rate' by adding the number of reads that align with an an insertion or deletion at each base"
     ]
    },
    {
     "cell_type": "code",
     "collapsed": false,
     "input": [
      "variants['indel_rate'] = (variants['insertions'] + variants['deletions']) / variants['reads_all']"
     ],
     "language": "python",
     "metadata": {},
     "outputs": [],
     "prompt_number": 9
    },
    {
     "cell_type": "markdown",
     "metadata": {},
     "source": [
      "Let's create a new relative position variable centered at the predicted sgRNA cutsite (rel_pos = 0)"
     ]
    },
    {
     "cell_type": "code",
     "collapsed": false,
     "input": [
      "AAEL002575_sgRNA_pos = 223; # AAEL002575-sgRNA2 from paper; on positive strand of reference sequence  (GGGCGAACGTTTCCACGATG AGG)\n",
      "AAEL014228_sgRNA_pos = 216; # AAEL014228-sgRNA2 from paper; on positive strand of reference sequence  (GGATGACTTAACTTTAGTTT CGG)\n",
      "AAEL013647_sgRNA_pos = 195; # AAEL013647-sgRNA2 from paper; on negative strand of reference sequence  (GGAATCCTCGGTGCATGGTT TGG)\n",
      "\n",
      "sgRNA_pos = pd.DataFrame(data = {'chrom' : ['AAEL002575','AAEL014228','AAEL013647'], 'sgRNA_pos' : [AAEL002575_sgRNA_pos,AAEL014228_sgRNA_pos,AAEL013647_sgRNA_pos]})\n",
      "\n",
      "variants = pd.merge(variants,sgRNA_pos)\n",
      "\n",
      "variants['rel_pos'] = variants['pos'] - variants['sgRNA_pos']"
     ],
     "language": "python",
     "metadata": {},
     "outputs": [],
     "prompt_number": 10
    },
    {
     "cell_type": "markdown",
     "metadata": {},
     "source": [
      "trim to bases \u00b150bp from the sgRNA cut site"
     ]
    },
    {
     "cell_type": "code",
     "collapsed": false,
     "input": [
      "variants_trimmed = variants[(variants['rel_pos'] > -50) & (variants['rel_pos'] < 50)]"
     ],
     "language": "python",
     "metadata": {},
     "outputs": [],
     "prompt_number": 11
    },
    {
     "cell_type": "markdown",
     "metadata": {},
     "source": [
      "## Step 4 - plotting and analysis of data"
     ]
    },
    {
     "cell_type": "markdown",
     "metadata": {},
     "source": [
      "plot by chromosome, using seaborn"
     ]
    },
    {
     "cell_type": "code",
     "collapsed": false,
     "input": [
      "chrom_plot = seaborn.factorplot(data=variants_trimmed,x='rel_pos',y='indel_rate',hue='chrom',kind='point',size=5,aspect=3)"
     ],
     "language": "python",
     "metadata": {},
     "outputs": [
      {
       "metadata": {},
       "output_type": "display_data",
       "png": "[encoded data removed]",
       "text": [
        "<matplotlib.figure.Figure at 0x1098a87f0>"
       ]
      }
     ],
     "prompt_number": 12
    },
    {
     "cell_type": "markdown",
     "metadata": {},
     "source": [
      "Lastly, calculate the maximum cut rate for each alignment"
     ]
    },
    {
     "cell_type": "code",
     "collapsed": false,
     "input": [
      "maximum_cut_rate = variants_trimmed.groupby('chrom').apply(max)['indel_rate']\n",
      "print(maximum_cut_rate)"
     ],
     "language": "python",
     "metadata": {},
     "outputs": [
      {
       "output_type": "stream",
       "stream": "stdout",
       "text": [
        "chrom\n",
        "AAEL002575    0.01541311\n",
        "AAEL013647    0.17022025\n",
        "AAEL014228    0.03387318\n",
        "Name: indel_rate, dtype: object\n"
       ]
      }
     ],
     "prompt_number": 13
    },
    {
     "cell_type": "markdown",
     "metadata": {},
     "source": [
      "Thus, our interpretation of cut rates for this injection (from this single sequencing library):\n",
      "* AAEL002575-sgRNA2 was ~ 1.5%\n",
      "* AAEL013647-sgRNA2 was ~ 17.0%\n",
      "* AAEL014228-sgRNA2 was ~ 3.4%\n"
     ]
    }
   ],
   "metadata": {}
  }
 ]
}