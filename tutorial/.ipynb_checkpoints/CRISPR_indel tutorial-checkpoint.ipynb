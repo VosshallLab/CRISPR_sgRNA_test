{
 "metadata": {
  "name": "",
  "signature": "sha256:891ab94c581583ee9134242aa91206ab88b77c374d0ba5e3a49aab691ec0a236"
 },
 "nbformat": 3,
 "nbformat_minor": 0,
 "worksheets": [
  {
   "cells": [
    {
     "cell_type": "markdown",
     "metadata": {},
     "source": [
      "#tutorial alignment and indel analysis"
     ]
    },
    {
     "cell_type": "markdown",
     "metadata": {},
     "source": [
      "##script to align deep sequencing reads and detect indels caused by ZFN/TALEN/CRISPR<br>\n",
      "\n",
      "Companion to the bioRxiv manuscript \n",
      "[Genome engineering with CRISPR-Cas9 in the mosquito Aedes aegypti](http://bioRxiv.org)<br>\n",
      "Katie E. Kistler, Leslie B. Vosshall, and [Benjamin J. Matthews](bmatthews@rockefeller.edu)<br>\n",
      "[github link](http://github.com/bnmtthws/crispr_indel/)<br>\n",
      "\n",
      "###Tutorial: example dataset for alignment and analysis\n",
      "\n",
      "####Steps: <br>\n",
      "1. Set up the python environment and define our filenames\n",
      "2. Gapped alignments of reads to a reference sequence\n",
      "3. Extraction of changes by the package pysamstats\n",
      "\n",
      "---\n",
      "tested on MacOS X 10.10 (Yosemite) and Linux (RHEL 6)\n",
      "\n",
      "software requirements and *tested versions*:<br>\n",
      "1. gmap/gsnap [http://research-pub.gene.com/gmap/] *version 10-22-2014*<br>\n",
      "2. pysam [https://github.com/pysam-developers/pysam] *version 0.8.0*<br>\n",
      "3. samtools/htslib [http://www.htslib.org] *version 1.1*<br>\n",
      "  \n",
      "python package requirements:<br>\n",
      "1. pysamstats [https://github.com/alimanfoo/pysamstats] *version 0.19*<br>\n",
      "2. numpy\n",
      "3. pandas\n",
      "4. seaborn (optional: for plotting)\n",
      "  \n",
      "---\n",
      "input:\n",
      "1. miseq.fastq: a file containing 150bp reads from an Illumina MiSeq instrument of a PCR amplicon surrounding a CRISPR cut site\n",
      "2. reference.fa - a fasta file containing the wild-type reference sequence for the PCR amplicon\n",
      "\n",
      "output:\n",
      "1. sorted .bam files for each sample\n",
      "2. *.variant.stats file summarizing indel/SNP rates for each sample"
     ]
    },
    {
     "cell_type": "markdown",
     "metadata": {},
     "source": [
      "## Step 1: Set up the python environment and define our filenames"
     ]
    },
    {
     "cell_type": "code",
     "collapsed": false,
     "input": [
      "# import our libraries\n",
      "import sys,re,csv,glob,os,pysam\n",
      "import pandas as pd\n",
      "import numpy as np\n",
      "import seaborn\n",
      "import matplotlib as mp\n",
      "%matplotlib inline"
     ],
     "language": "python",
     "metadata": {},
     "outputs": [],
     "prompt_number": 1
    },
    {
     "cell_type": "code",
     "collapsed": false,
     "input": [
      "# define our filenames\n",
      "input_reads = 'miseq.fastq'\n",
      "reference = 'reference.fa'"
     ],
     "language": "python",
     "metadata": {},
     "outputs": [],
     "prompt_number": 2
    },
    {
     "cell_type": "code",
     "collapsed": false,
     "input": [
      "##Step 2: Gapped alignment of "
     ],
     "language": "python",
     "metadata": {},
     "outputs": []
    }
   ],
   "metadata": {}
  }
 ]
}