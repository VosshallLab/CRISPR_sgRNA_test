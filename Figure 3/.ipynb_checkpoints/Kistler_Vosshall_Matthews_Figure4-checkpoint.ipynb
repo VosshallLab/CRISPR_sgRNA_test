{
 "metadata": {
  "name": "",
  "signature": "sha256:94145c3cd448390b23e59f682e23226ca2c7ad43c85c0caaf2e5d47d1be63bb6"
 },
 "nbformat": 3,
 "nbformat_minor": 0,
 "worksheets": [
  {
   "cells": [
    {
     "cell_type": "markdown",
     "metadata": {},
     "source": [
      "#Figure 4"
     ]
    },
    {
     "cell_type": "markdown",
     "metadata": {},
     "source": [
      "#Analysis of indel rates in deep-sequencing PCR amplicons: alignment (step 1 of 2)"
     ]
    },
    {
     "cell_type": "markdown",
     "metadata": {},
     "source": [
      "###Genome engineering with CRISPR/Cas9 in the mosquito <i>Aedes aegypti</i>\n",
      "####Kistler KE, Vosshall LB, and Matthews BJ\n",
      "ben matthews 11/2014<br>\n",
      "bmatthews@rockefeller.edu<br>\n",
      "[http://github.com/bnmtthws/crispr_indel/](github)\n",
      "\n",
      "---\n",
      "python package requirements:<br>\n",
      "1. numpy\n",
      "2. pandas\n",
      "3. seaborn\n",
      "4. PyVCF (0.6.7)\n",
      "\n",
      "other software requirements:<br>\n",
      "1. Picard (v1.126)\n",
      "2. GATK (v.3.3.0)\n",
      "\n",
      "---\n",
      "UPDATE INPUT/OUTPUT requirements"
     ]
    },
    {
     "cell_type": "code",
     "collapsed": false,
     "input": [
      "import pandas as pd\n",
      "import numpy as np\n",
      "import seaborn\n",
      "import matplotlib as mp\n",
      "%matplotlib inline"
     ],
     "language": "python",
     "metadata": {},
     "outputs": [],
     "prompt_number": 1
    },
    {
     "cell_type": "markdown",
     "metadata": {},
     "source": [
      "##Figure 3 - sgRNA tests for 6 genes"
     ]
    },
    {
     "cell_type": "heading",
     "level": 4,
     "metadata": {},
     "source": [
      "read samples file (describing the relationship between S_num and other variables to plot)"
     ]
    },
    {
     "cell_type": "code",
     "collapsed": false,
     "input": [
      "fig4d_prefix_dir = '6ppk3sgRNA/miseq-07022014/'\n",
      "samples = pd.read_csv(fig4d_prefix_dir + 'legends/samples.csv')"
     ],
     "language": "python",
     "metadata": {},
     "outputs": [],
     "prompt_number": 20
    },
    {
     "cell_type": "heading",
     "level": 4,
     "metadata": {},
     "source": [
      "read injections file (describing the location of CRISPR cut sites in the genome file)"
     ]
    },
    {
     "cell_type": "code",
     "collapsed": false,
     "input": [
      "injections = pd.read_csv(fig4d_prefix_dir + 'legends/injections.csv')"
     ],
     "language": "python",
     "metadata": {},
     "outputs": [],
     "prompt_number": 21
    },
    {
     "cell_type": "heading",
     "level": 4,
     "metadata": {},
     "source": [
      "read in all .variant stats files into a pandas DataFrame (add column with S_num)"
     ]
    },
    {
     "cell_type": "code",
     "collapsed": false,
     "input": [
      "overall = pd.DataFrame()\n",
      "for sample in samples.iloc[0:,0]:\n",
      "    temp = pd.read_csv(fig4d_prefix_dir + sample + '.variant.stats',delimiter='\\t')\n",
      "    temp['S_num'] = sample\n",
      "    overall = overall.append(temp)"
     ],
     "language": "python",
     "metadata": {},
     "outputs": [],
     "prompt_number": 22
    },
    {
     "cell_type": "heading",
     "level": 4,
     "metadata": {},
     "source": [
      "filter by total read number (prevents analysis of reads that slip through Miseq demultiplexing)"
     ]
    },
    {
     "cell_type": "code",
     "collapsed": false,
     "input": [
      "overall_filtered = overall[overall['reads_all'] > 1000][['S_num','chrom','pos','reads_all','insertions','deletions']]\n",
      "overall_filtered['indel_rate'] = (overall_filtered['insertions'] + overall_filtered['deletions']) / overall_filtered['reads_all']\n",
      "overall_filtered = overall_filtered.merge(samples,on='S_num')\n",
      "overall_filtered = overall_filtered.merge(injections,on=['injection','chrom'])"
     ],
     "language": "python",
     "metadata": {},
     "outputs": [],
     "prompt_number": 23
    },
    {
     "cell_type": "markdown",
     "metadata": {},
     "source": [
      "####filter data and select all ppk: "
     ]
    },
    {
     "cell_type": "code",
     "collapsed": false,
     "input": [
      "final_6ppk_data = pd.DataFrame()\n",
      "\n",
      "for inj in injections.iterrows():\n",
      "    overall_filtered[overall_filtered['name_y'].isin([inj[1]['name']])]\n",
      "    temp = overall_filtered[overall_filtered['name_y'].isin([inj[1]['name']]) & overall_filtered['pos'].isin(range(inj[1]['cut_site'] - 30, inj[1]['cut_site'] + 30 ))]   \n",
      "    temp['sgRNA_pos'] = temp['pos'] - inj[1]['cut_site']\n",
      "    if inj[1]['strand'] == 'rev':\n",
      "        temp['sgRNA_pos'] = temp['sgRNA_pos'] * -1\n",
      "        \n",
      "    final_6ppk_data = final_6ppk_data.append(temp)"
     ],
     "language": "python",
     "metadata": {},
     "outputs": [
      {
       "output_type": "stream",
       "stream": "stderr",
       "text": [
        "-c:6: SettingWithCopyWarning: \n",
        "A value is trying to be set on a copy of a slice from a DataFrame.\n",
        "Try using .loc[row_indexer,col_indexer] = value instead\n",
        "\n",
        "See the the caveats in the documentation: http://pandas.pydata.org/pandas-docs/stable/indexing.html#indexing-view-versus-copy\n",
        "-c:8: SettingWithCopyWarning: \n",
        "A value is trying to be set on a copy of a slice from a DataFrame.\n",
        "Try using .loc[row_indexer,col_indexer] = value instead\n",
        "\n",
        "See the the caveats in the documentation: http://pandas.pydata.org/pandas-docs/stable/indexing.html#indexing-view-versus-copy\n"
       ]
      }
     ],
     "prompt_number": 24
    },
    {
     "cell_type": "markdown",
     "metadata": {},
     "source": [
      "#### plot the insertion and deletion rate, split by cas9 and by gene"
     ]
    },
    {
     "cell_type": "code",
     "collapsed": false,
     "input": [
      "seaborn.set_style(\"ticks\")\n",
      "ax_fig4d_raw = seaborn.factorplot('sgRNA_pos','indel_rate',col='name_y',col_wrap=6,hue='name_x',\n",
      "                   ci=95,kind='point',data=final_6ppk_data,sharex=False,sharey=True)"
     ],
     "language": "python",
     "metadata": {},
     "outputs": [],
     "prompt_number": 45
    },
    {
     "cell_type": "markdown",
     "metadata": {},
     "source": [
      "####write data to .csv file and figure to .pdf"
     ]
    },
    {
     "cell_type": "code",
     "collapsed": false,
     "input": [
      "final_6ppk_data.to_csv('ppk6_all.csv')"
     ],
     "language": "python",
     "metadata": {},
     "outputs": [],
     "prompt_number": 46
    },
    {
     "cell_type": "markdown",
     "metadata": {},
     "source": [
      "####extract max. cut rate for each S_num and sgRNA"
     ]
    },
    {
     "cell_type": "code",
     "collapsed": false,
     "input": [
      "summary_data = final_6ppk_data.groupby(['name_y','S_num'],as_index=False)[['indel_rate']].max()"
     ],
     "language": "python",
     "metadata": {},
     "outputs": [],
     "prompt_number": 47
    },
    {
     "cell_type": "code",
     "collapsed": false,
     "input": [
      "summary_data.to_csv('ppk6_summary.csv')"
     ],
     "language": "python",
     "metadata": {},
     "outputs": [],
     "prompt_number": 48
    },
    {
     "cell_type": "markdown",
     "metadata": {},
     "source": [
      "####plot max. cut rate for each sgRNA"
     ]
    },
    {
     "cell_type": "code",
     "collapsed": false,
     "input": [
      "ax_fig4d = seaborn.factorplot(data=summary_data,x='name_y',y='indel_rate',kind='bar')\n",
      "ax_fig4d.savefig(format='pdf',filename='fig4d_sgRNA_test_maxCut.pdf')"
     ],
     "language": "python",
     "metadata": {},
     "outputs": [],
     "prompt_number": 49
    },
    {
     "cell_type": "markdown",
     "metadata": {},
     "source": [
      "##Figure 2C - sgRNA indel assay"
     ]
    },
    {
     "cell_type": "code",
     "collapsed": false,
     "input": [
      "s1only = final_6ppk_data[final_6ppk_data['injection'].isin(['LV28'])]\n",
      "seaborn.set_style(\"ticks\")\n",
      "ax_fig2c_raw = seaborn.factorplot('sgRNA_pos','indel_rate',col='chrom',col_wrap=3,hue='S_num',\n",
      "                   ci=95,kind='point',data=s1only,sharex=False,sharey=True)"
     ],
     "language": "python",
     "metadata": {},
     "outputs": [],
     "prompt_number": 29
    },
    {
     "cell_type": "code",
     "collapsed": false,
     "input": [
      "ax_fig2c_raw.savefig(format='pdf',filename='fig2c_LV28-testing-zoom.pdf')"
     ],
     "language": "python",
     "metadata": {},
     "outputs": [],
     "prompt_number": 30
    },
    {
     "cell_type": "code",
     "collapsed": false,
     "input": [],
     "language": "python",
     "metadata": {},
     "outputs": []
    }
   ],
   "metadata": {}
  }
 ]
}